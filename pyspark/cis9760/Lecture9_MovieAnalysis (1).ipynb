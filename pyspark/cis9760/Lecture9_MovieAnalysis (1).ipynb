{
 "cells": [
  {
   "cell_type": "code",
   "execution_count": 1,
   "id": "prescribed-baptist",
   "metadata": {},
   "outputs": [],
   "source": [
    "import findspark\n",
    "findspark.init()\n",
    "\n",
    "import pyspark\n",
    "from pyspark.sql import SparkSession\n",
    "spark = SparkSession.builder.master(\"local[1]\").appName(\"SparkByExamples.com\").getOrCreate()"
   ]
  },
  {
   "cell_type": "code",
   "execution_count": 2,
   "id": "860c5aad",
   "metadata": {
    "scrolled": true
   },
   "outputs": [],
   "source": [
    "# The data comes from https://www.kaggle.com/datasets/ashirwadsangwan/imdb-dataset\n",
    "actors = spark.read.csv('name.basics.tsv', sep=r'\\t', header=True)\n",
    "genres = spark.read.csv('title.basics.tsv', sep=r'\\t', header=True)\n",
    "movie_actors = spark.read.csv('title.principals.tsv', sep=r'\\t', header=True)\n",
    "movie_ratings = spark.read.csv('title.ratings.tsv', sep=r'\\t', header=True)"
   ]
  },
  {
   "cell_type": "markdown",
   "id": "9563b4a7",
   "metadata": {},
   "source": [
    "# Content\n",
    "\n",
    "**<br />title.basics.tsv.gz - Contains the following information for titles:**\n",
    "<br />tconst (string) - alphanumeric unique identifier of the title.\n",
    "<br />titleType (string) – the type/format of the title (e.g. movie, short, tvseries, tvepisode, video, etc).\n",
    "<br />primaryTitle (string) – the more popular title / the title used by the filmmakers on promotional materials at the point of release.\n",
    "<br />originalTitle (string) - original title, in the original language.\n",
    "<br />isAdult (boolean) - 0: non-adult title; 1: adult title.\n",
    "<br />startYear (YYYY) – represents the release year of a title. In the case of TV Series, it is the series start year.\n",
    "<br />endYear (YYYY) – TV Series end year. for all other title types.\n",
    "<br />runtimeMinutes – primary runtime of the title, in minutes.\n",
    "<br />genres (string array) – includes up to three genres associated with the title.\n",
    "<br/><br/>\n",
    "**<br />title.principals.tsv – Contains the principal cast/crew for titles:**\n",
    "<br />tconst (string) - alphanumeric unique identifier of the title.\n",
    "<br />ordering (integer) – a number to uniquely identify rows for a given titleId.\n",
    "<br />nconst (string) - alphanumeric unique identifier of the name/person.\n",
    "<br />category (string) - the category of job that person was in.\n",
    "<br />job (string) - the specific job title if applicable, else.\n",
    "<br />characters (string) - the name of the character played if applicable, else.\n",
    "<br/><br/>\n",
    "**<br />title.ratings.tsv.gz – Contains the IMDb rating and votes information for titles:**\n",
    "<br />tconst (string) - alphanumeric unique identifier of the title.\n",
    "<br />averageRating – weighted average of all the individual user ratings.\n",
    "<br />numVotes - number of votes the title has received.\n",
    "<br/><br/>\n",
    "**<br />name.basics.tsv.gz – Contains the following information for names:**\n",
    "<br />nconst (string) - alphanumeric unique identifier of the name/person.\n",
    "<br />primaryName (string)– name by which the person is most often credited.\n",
    "<br />birthYear – in YYYY format.\n",
    "<br />deathYear – in YYYY format if applicable, else .\n",
    "<br />primaryProfession (array of strings)– the top-3 professions of the person.\n",
    "<br />knownForTitles (array of tconsts) – titles the person is known for."
   ]
  },
  {
   "cell_type": "markdown",
   "id": "d78e55bd",
   "metadata": {},
   "source": [
    "# Actors"
   ]
  },
  {
   "cell_type": "code",
   "execution_count": 3,
   "id": "05016266",
   "metadata": {
    "scrolled": true
   },
   "outputs": [
    {
     "name": "stdout",
     "output_type": "stream",
     "text": [
      "root\n",
      " |-- nconst: string (nullable = true)\n",
      " |-- primaryName: string (nullable = true)\n",
      " |-- birthYear: string (nullable = true)\n",
      " |-- deathYear: string (nullable = true)\n",
      " |-- primaryProfession: string (nullable = true)\n",
      " |-- knownForTitles: string (nullable = true)\n",
      "\n",
      "+---------+---------------+---------+---------+--------------------+--------------------+\n",
      "|   nconst|    primaryName|birthYear|deathYear|   primaryProfession|      knownForTitles|\n",
      "+---------+---------------+---------+---------+--------------------+--------------------+\n",
      "|nm0000001|   Fred Astaire|     1899|     1987|soundtrack,actor,...|tt0050419,tt00531...|\n",
      "|nm0000002|  Lauren Bacall|     1924|     2014|  actress,soundtrack|tt0071877,tt01170...|\n",
      "|nm0000003|Brigitte Bardot|     1934|       \\N|actress,soundtrac...|tt0054452,tt00491...|\n",
      "|nm0000004|   John Belushi|     1949|     1982|actor,writer,soun...|tt0077975,tt00725...|\n",
      "|nm0000005| Ingmar Bergman|     1918|     2007|writer,director,a...|tt0069467,tt00509...|\n",
      "|nm0000006| Ingrid Bergman|     1915|     1982|actress,soundtrac...|tt0038109,tt00368...|\n",
      "|nm0000007|Humphrey Bogart|     1899|     1957|actor,soundtrack,...|tt0043265,tt00338...|\n",
      "|nm0000008|  Marlon Brando|     1924|     2004|actor,soundtrack,...|tt0070849,tt00787...|\n",
      "|nm0000009| Richard Burton|     1925|     1984|actor,producer,so...|tt0057877,tt00878...|\n",
      "|nm0000010|   James Cagney|     1899|     1986|actor,soundtrack,...|tt0035575,tt00318...|\n",
      "+---------+---------------+---------+---------+--------------------+--------------------+\n",
      "only showing top 10 rows\n",
      "\n"
     ]
    },
    {
     "data": {
      "text/plain": [
       "9706922"
      ]
     },
     "execution_count": 3,
     "metadata": {},
     "output_type": "execute_result"
    }
   ],
   "source": [
    "actors.printSchema()\n",
    "actors.show(10)\n",
    "actors.count()"
   ]
  },
  {
   "cell_type": "code",
   "execution_count": null,
   "id": "handy-dress",
   "metadata": {},
   "outputs": [],
   "source": []
  },
  {
   "cell_type": "markdown",
   "id": "60ea94ad",
   "metadata": {},
   "source": [
    "# Genres"
   ]
  },
  {
   "cell_type": "code",
   "execution_count": 4,
   "id": "65d953b1",
   "metadata": {
    "scrolled": false
   },
   "outputs": [
    {
     "name": "stdout",
     "output_type": "stream",
     "text": [
      "root\n",
      " |-- tconst: string (nullable = true)\n",
      " |-- titleType: string (nullable = true)\n",
      " |-- primaryTitle: string (nullable = true)\n",
      " |-- originalTitle: string (nullable = true)\n",
      " |-- isAdult: string (nullable = true)\n",
      " |-- startYear: string (nullable = true)\n",
      " |-- endYear: string (nullable = true)\n",
      " |-- runtimeMinutes: string (nullable = true)\n",
      " |-- genres: string (nullable = true)\n",
      "\n",
      "+---------+---------+--------------------+--------------------+-------+---------+-------+--------------+-----------------+\n",
      "|   tconst|titleType|        primaryTitle|       originalTitle|isAdult|startYear|endYear|runtimeMinutes|           genres|\n",
      "+---------+---------+--------------------+--------------------+-------+---------+-------+--------------+-----------------+\n",
      "|tt0000001|    short|          Carmencita|          Carmencita|      0|     1894|     \\N|             1|Documentary,Short|\n",
      "|tt0000002|    short|Le clown et ses c...|Le clown et ses c...|      0|     1892|     \\N|             5|  Animation,Short|\n",
      "+---------+---------+--------------------+--------------------+-------+---------+-------+--------------+-----------------+\n",
      "only showing top 2 rows\n",
      "\n"
     ]
    },
    {
     "data": {
      "text/plain": [
       "6321302"
      ]
     },
     "execution_count": 4,
     "metadata": {},
     "output_type": "execute_result"
    }
   ],
   "source": [
    "genres.printSchema()\n",
    "genres.show(2)\n",
    "genres.count()"
   ]
  },
  {
   "cell_type": "code",
   "execution_count": 5,
   "id": "52379976",
   "metadata": {
    "scrolled": true
   },
   "outputs": [
    {
     "name": "stdout",
     "output_type": "stream",
     "text": [
      "+--------------------+---------+--------------+-----------------+\n",
      "|        primaryTitle|startYear|runtimeMinutes|           genres|\n",
      "+--------------------+---------+--------------+-----------------+\n",
      "|          Carmencita|     1894|             1|Documentary,Short|\n",
      "|Le clown et ses c...|     1892|             5|  Animation,Short|\n",
      "+--------------------+---------+--------------+-----------------+\n",
      "only showing top 2 rows\n",
      "\n"
     ]
    }
   ],
   "source": [
    "genres.select(\"primaryTitle\", \"startYear\", \"runtimeMinutes\", \"genres\").show(2)"
   ]
  },
  {
   "cell_type": "code",
   "execution_count": 6,
   "id": "8c398554",
   "metadata": {
    "scrolled": true
   },
   "outputs": [
    {
     "name": "stdout",
     "output_type": "stream",
     "text": [
      "+--------------------+---------+--------------+---------------+\n",
      "|        primaryTitle|startYear|runtimeMinutes|         genres|\n",
      "+--------------------+---------+--------------+---------------+\n",
      "|       Winding Stair|       \\N|            \\N|       Thriller|\n",
      "|Kosztolányi Dezsö...|       \\N|            25|          Short|\n",
      "|     Artes e Ofícios|       \\N|            \\N|             \\N|\n",
      "|         Willi Forst|       \\N|            55|             \\N|\n",
      "|          Megavision|       \\N|            \\N|         Comedy|\n",
      "|Das Leben hinter ...|       \\N|            \\N|    Documentary|\n",
      "|Ahol kialszik a v...|       \\N|            15|Animation,Short|\n",
      "|    Leben ohne Sonne|       \\N|            \\N|    Documentary|\n",
      "|Alexandru Lapusneanu|       \\N|            \\N|        History|\n",
      "|        Episode #1.2|       \\N|            81|  Drama,History|\n",
      "|            Complica|       \\N|            \\N|             \\N|\n",
      "|  The Arcata Promise|       \\N|            \\N|          Music|\n",
      "|         Cuo zai cuo|       \\N|            \\N|             \\N|\n",
      "|         Senza prove|       \\N|            \\N|             \\N|\n",
      "|The Curly-Headed ...|       \\N|            \\N|             \\N|\n",
      "|    L'ultima partita|       \\N|            \\N|             \\N|\n",
      "|  Deadly Confessions|       \\N|            \\N|             \\N|\n",
      "|       La via lattea|       \\N|            \\N|             \\N|\n",
      "|   Devotion of a Boy|       \\N|            \\N|             \\N|\n",
      "|          L'ostaggio|       \\N|            \\N|             \\N|\n",
      "+--------------------+---------+--------------+---------------+\n",
      "only showing top 20 rows\n",
      "\n"
     ]
    }
   ],
   "source": [
    "from pyspark.sql.functions import col\n",
    "genres.select(\"primaryTitle\", \"startYear\", \"runtimeMinutes\", \"genres\").sort(col(\"startYear\").desc()).show(20)"
   ]
  },
  {
   "cell_type": "code",
   "execution_count": 7,
   "id": "7fbfc21d",
   "metadata": {},
   "outputs": [
    {
     "name": "stdout",
     "output_type": "stream",
     "text": [
      "+--------------------+---------+--------------+--------------------+\n",
      "|        primaryTitle|startYear|runtimeMinutes|              genres|\n",
      "+--------------------+---------+--------------+--------------------+\n",
      "|           100 Years|     2115|            \\N|               Drama|\n",
      "|            Avatar 5|     2027|            \\N|Action,Adventure,...|\n",
      "|          Persephone|     2026|            \\N|             Fantasy|\n",
      "|     Greenoaks Drive|     2026|            \\N|               Drama|\n",
      "|Untitled Star War...|     2026|            \\N|Action,Adventure,...|\n",
      "|Alien Interloper:...|     2026|            \\N|           Animation|\n",
      "|            Avatar 4|     2025|            \\N|Action,Adventure,...|\n",
      "|               Frame|     2025|            \\N|         Documentary|\n",
      "|Ghost Hollow: Ano...|     2025|            \\N|        Horror,Short|\n",
      "| Blood Red Christmas|     2025|            \\N|              Horror|\n",
      "|            The Race|     2024|            \\N|               Drama|\n",
      "|              Anna Q|     2024|            \\N|               Drama|\n",
      "|Fantastic Beasts ...|     2024|            \\N|Adventure,Family,...|\n",
      "|Untitled Star War...|     2024|            \\N|Action,Adventure,...|\n",
      "|    Sanctuary Abroad|     2024|            \\N|               Drama|\n",
      "|Alien Interloper:...|     2024|            85|           Animation|\n",
      "|Mötley Crüe: Life...|     2024|            \\N|Biography,Drama,M...|\n",
      "|Büyük Istanbul De...|     2024|            \\N|             History|\n",
      "|     Artificial Soul|     2024|            \\N|                  \\N|\n",
      "|       Divine Flames|     2023|            90|Drama,Fantasy,Rom...|\n",
      "+--------------------+---------+--------------+--------------------+\n",
      "only showing top 20 rows\n",
      "\n"
     ]
    }
   ],
   "source": [
    "from pyspark.sql.functions import col\n",
    "nll = '\\\\N'\n",
    "genres.select(\"primaryTitle\", \"startYear\", \"runtimeMinutes\", \"genres\") \\\n",
    "    .filter(col(\"startYear\") != nll) \\\n",
    "    .sort(col(\"startYear\").desc()).show(20)"
   ]
  },
  {
   "cell_type": "markdown",
   "id": "0383802a",
   "metadata": {},
   "source": [
    "# Movie Actors"
   ]
  },
  {
   "cell_type": "code",
   "execution_count": 8,
   "id": "3b25196c",
   "metadata": {
    "scrolled": true
   },
   "outputs": [
    {
     "name": "stdout",
     "output_type": "stream",
     "text": [
      "root\n",
      " |-- tconst: string (nullable = true)\n",
      " |-- ordering: string (nullable = true)\n",
      " |-- nconst: string (nullable = true)\n",
      " |-- category: string (nullable = true)\n",
      " |-- job: string (nullable = true)\n",
      " |-- characters: string (nullable = true)\n",
      "\n",
      "+---------+--------+---------+--------+---+-----------+\n",
      "|   tconst|ordering|   nconst|category|job| characters|\n",
      "+---------+--------+---------+--------+---+-----------+\n",
      "|tt0000001|       1|nm1588970|    self| \\N|[\"Herself\"]|\n",
      "|tt0000001|       2|nm0005690|director| \\N|         \\N|\n",
      "+---------+--------+---------+--------+---+-----------+\n",
      "only showing top 2 rows\n",
      "\n"
     ]
    },
    {
     "data": {
      "text/plain": [
       "36468817"
      ]
     },
     "execution_count": 8,
     "metadata": {},
     "output_type": "execute_result"
    }
   ],
   "source": [
    "movie_actors.printSchema()\n",
    "movie_actors.show(2)\n",
    "movie_actors.count()"
   ]
  },
  {
   "cell_type": "markdown",
   "id": "373b747d",
   "metadata": {},
   "source": [
    "# Movie Ratings"
   ]
  },
  {
   "cell_type": "code",
   "execution_count": 9,
   "id": "62dfd472",
   "metadata": {
    "scrolled": false
   },
   "outputs": [
    {
     "name": "stdout",
     "output_type": "stream",
     "text": [
      "root\n",
      " |-- tconst: string (nullable = true)\n",
      " |-- averageRating: string (nullable = true)\n",
      " |-- numVotes: string (nullable = true)\n",
      "\n",
      "+---------+-------------+--------+\n",
      "|   tconst|averageRating|numVotes|\n",
      "+---------+-------------+--------+\n",
      "|tt0000001|          5.6|    1550|\n",
      "|tt0000002|          6.1|     186|\n",
      "+---------+-------------+--------+\n",
      "only showing top 2 rows\n",
      "\n"
     ]
    },
    {
     "data": {
      "text/plain": [
       "993153"
      ]
     },
     "execution_count": 9,
     "metadata": {},
     "output_type": "execute_result"
    }
   ],
   "source": [
    "movie_ratings.printSchema()\n",
    "movie_ratings.show(2)\n",
    "movie_ratings.count()"
   ]
  },
  {
   "cell_type": "code",
   "execution_count": 10,
   "id": "5335c7ec",
   "metadata": {},
   "outputs": [
    {
     "name": "stdout",
     "output_type": "stream",
     "text": [
      "+---------+-------------+\n",
      "|   tconst|averageRating|\n",
      "+---------+-------------+\n",
      "|tt0398053|          9.9|\n",
      "|tt0772824|          9.9|\n",
      "|tt0398054|          9.9|\n",
      "|tt0264420|          9.9|\n",
      "|tt0447836|          9.9|\n",
      "|tt0307114|          9.9|\n",
      "|tt0487487|          9.9|\n",
      "|tt0343717|          9.9|\n",
      "|tt0500029|          9.9|\n",
      "|tt0620994|          9.9|\n",
      "|tt0621905|          9.9|\n",
      "|tt0223767|          9.9|\n",
      "|tt0626832|          9.9|\n",
      "|tt0342595|          9.9|\n",
      "|tt0646493|          9.9|\n",
      "|tt0509378|          9.9|\n",
      "|tt0647375|          9.9|\n",
      "|tt0536615|          9.9|\n",
      "|tt0696497|          9.9|\n",
      "|tt0594781|          9.9|\n",
      "+---------+-------------+\n",
      "only showing top 20 rows\n",
      "\n"
     ]
    }
   ],
   "source": [
    "movie_ratings.select(\"tconst\", \"averageRating\").sort(col(\"averageRating\").desc()).show(20)"
   ]
  },
  {
   "cell_type": "markdown",
   "id": "3e71ebdc",
   "metadata": {},
   "source": [
    "# Install the libraries"
   ]
  },
  {
   "cell_type": "code",
   "execution_count": null,
   "id": "a600c9fa",
   "metadata": {},
   "outputs": [],
   "source": [
    "#This for the cloud purpose\n",
    "spark.install_pypi_package(\"matplotlib==3.2.1\")\n",
    "spark.install_pypi_package(\"pandas==1.0.3\")\n",
    "#sc.install_pypi_package(\"seaborn==0.11.2\")"
   ]
  },
  {
   "cell_type": "code",
   "execution_count": 11,
   "id": "3eace277",
   "metadata": {},
   "outputs": [],
   "source": [
    "import pandas as pd\n",
    "import numpy as np\n",
    "import seaborn as sns\n",
    "import matplotlib.pyplot as plt"
   ]
  },
  {
   "cell_type": "markdown",
   "id": "d501aa60",
   "metadata": {},
   "source": [
    "# What are the 10 most popular genres in this data set?"
   ]
  },
  {
   "cell_type": "code",
   "execution_count": 12,
   "id": "999c6275",
   "metadata": {},
   "outputs": [
    {
     "name": "stdout",
     "output_type": "stream",
     "text": [
      "+---------+-----------------+---------+-------------+\n",
      "|   tconst|           genres|   tconst|averageRating|\n",
      "+---------+-----------------+---------+-------------+\n",
      "|tt0000658|  Animation,Short|tt0000658|          6.4|\n",
      "|tt0001732|      Drama,Short|tt0001732|          7.1|\n",
      "|tt0002253|      Drama,Short|tt0002253|          4.2|\n",
      "|tt0002473|    Romance,Short|tt0002473|          6.7|\n",
      "|tt0002588|            Short|tt0002588|          6.2|\n",
      "|tt0004091|     Comedy,Short|tt0004091|          5.1|\n",
      "|tt0004272|           Action|tt0004272|          5.9|\n",
      "|tt0004336|Adventure,Mystery|tt0004336|          5.5|\n",
      "|tt0005209|            Drama|tt0005209|          5.7|\n",
      "|tt0006204|            Drama|tt0006204|          6.1|\n",
      "+---------+-----------------+---------+-------------+\n",
      "only showing top 10 rows\n",
      "\n"
     ]
    }
   ],
   "source": [
    "genres_only = genres.select(\"tconst\", \"genres\")\n",
    "movie_ratings_only = movie_ratings.select(\"tconst\", \"averageRating\")\n",
    "genres_ratings = genres_only.join(movie_ratings_only, genres_only.tconst == movie_ratings_only.tconst)\n",
    "genres_ratings.show(10)"
   ]
  },
  {
   "cell_type": "code",
   "execution_count": 13,
   "id": "6a8c58b9",
   "metadata": {},
   "outputs": [
    {
     "name": "stdout",
     "output_type": "stream",
     "text": [
      "+---------+---------------+---------+-------------+---------+\n",
      "|   tconst|         genres|   tconst|averageRating|    genre|\n",
      "+---------+---------------+---------+-------------+---------+\n",
      "|tt0000658|Animation,Short|tt0000658|          6.4|Animation|\n",
      "|tt0000658|Animation,Short|tt0000658|          6.4|    Short|\n",
      "|tt0001732|    Drama,Short|tt0001732|          7.1|    Drama|\n",
      "|tt0001732|    Drama,Short|tt0001732|          7.1|    Short|\n",
      "|tt0002253|    Drama,Short|tt0002253|          4.2|    Drama|\n",
      "|tt0002253|    Drama,Short|tt0002253|          4.2|    Short|\n",
      "+---------+---------------+---------+-------------+---------+\n",
      "only showing top 6 rows\n",
      "\n"
     ]
    }
   ],
   "source": [
    "#split genres column with split which generates two rows for each row.\n",
    "\n",
    "from pyspark.sql.functions import explode, split\n",
    "genres_ratings_exploded = genres_ratings.withColumn('genre',explode(split('genres',\",\")))\n",
    "genres_ratings_exploded.show(6)"
   ]
  },
  {
   "cell_type": "code",
   "execution_count": 14,
   "id": "a4d0f2da",
   "metadata": {},
   "outputs": [],
   "source": [
    "from pyspark.sql.functions import col, mean\n",
    "most_pop_genres = genres_ratings_exploded \\\n",
    "    .select(\"genre\", \"averageRating\") \\\n",
    "    .withColumn(\"averageRating\", col(\"averageRating\").cast(\"Integer\")) \\\n",
    "    .groupBy(\"genre\") \\\n",
    "    .agg(mean('averageRating').alias(\"avg_rating\")) \\\n",
    "    .sort(col(\"avg_rating\").desc())"
   ]
  },
  {
   "cell_type": "code",
   "execution_count": 15,
   "id": "26b79192",
   "metadata": {
    "scrolled": true
   },
   "outputs": [
    {
     "name": "stdout",
     "output_type": "stream",
     "text": [
      "+-----------+------------------+\n",
      "|      genre|        avg_rating|\n",
      "+-----------+------------------+\n",
      "|    History| 6.860530277684845|\n",
      "|Documentary| 6.798347422394679|\n",
      "|    Mystery| 6.770626436653351|\n",
      "|  Biography| 6.739426872404778|\n",
      "|      Crime|6.7220388851337916|\n",
      "|    Western| 6.668041844703109|\n",
      "|    Fantasy| 6.651158055484856|\n",
      "|  Adventure|   6.6145401366268|\n",
      "|  Animation|   6.6064269658764|\n",
      "|        War| 6.580607891930324|\n",
      "+-----------+------------------+\n",
      "only showing top 10 rows\n",
      "\n"
     ]
    }
   ],
   "source": [
    "most_pop_genres.show(10)"
   ]
  },
  {
   "cell_type": "markdown",
   "id": "e199136c",
   "metadata": {},
   "source": [
    "# Which genres are most popular in terms of most movies made?"
   ]
  },
  {
   "cell_type": "code",
   "execution_count": 16,
   "id": "38ad6c33",
   "metadata": {},
   "outputs": [
    {
     "ename": "Py4JJavaError",
     "evalue": "An error occurred while calling o148.showString.\n: org.apache.spark.sql.catalyst.errors.package$TreeNodeException: execute, tree:\nExchange hashpartitioning(genre#402, 200), ENSURE_REQUIREMENTS, [id=#473]\n+- *(3) HashAggregate(keys=[genre#402], functions=[partial_count(1)], output=[genre#402, count#477L])\n   +- Generate explode(split(genres#52, ,, -1)), false, [genre#402]\n      +- *(2) Project [genres#52]\n         +- *(2) BroadcastHashJoin [tconst#44], [tconst#106], Inner, BuildRight, false\n            :- *(2) Filter (((isnotnull(tconst#44) AND isnotnull(genres#52)) AND (size(split(genres#52, ,, -1), true) > 0)) AND isnotnull(split(genres#52, ,, -1)))\n            :  +- FileScan csv [tconst#44,genres#52] Batched: false, DataFilters: [isnotnull(tconst#44), isnotnull(genres#52), (size(split(genres#52, ,, -1), true) > 0), isnotnull..., Format: CSV, Location: InMemoryFileIndex[file:/C:/Users/hlee0/CIS 9760/title.basics.tsv], PartitionFilters: [], PushedFilters: [IsNotNull(tconst), IsNotNull(genres)], ReadSchema: struct<tconst:string,genres:string>\n            +- BroadcastExchange HashedRelationBroadcastMode(List(input[0, string, false]),false), [id=#464]\n               +- *(1) Filter isnotnull(tconst#106)\n                  +- FileScan csv [tconst#106] Batched: false, DataFilters: [isnotnull(tconst#106)], Format: CSV, Location: InMemoryFileIndex[file:/C:/Users/hlee0/CIS 9760/title.ratings.tsv], PartitionFilters: [], PushedFilters: [IsNotNull(tconst)], ReadSchema: struct<tconst:string>\n\r\n\tat org.apache.spark.sql.catalyst.errors.package$.attachTree(package.scala:56)\r\n\tat org.apache.spark.sql.execution.exchange.ShuffleExchangeExec.doExecute(ShuffleExchangeExec.scala:163)\r\n\tat org.apache.spark.sql.execution.SparkPlan.$anonfun$execute$1(SparkPlan.scala:180)\r\n\tat org.apache.spark.sql.execution.SparkPlan.$anonfun$executeQuery$1(SparkPlan.scala:218)\r\n\tat org.apache.spark.rdd.RDDOperationScope$.withScope(RDDOperationScope.scala:151)\r\n\tat org.apache.spark.sql.execution.SparkPlan.executeQuery(SparkPlan.scala:215)\r\n\tat org.apache.spark.sql.execution.SparkPlan.execute(SparkPlan.scala:176)\r\n\tat org.apache.spark.sql.execution.InputAdapter.inputRDD(WholeStageCodegenExec.scala:525)\r\n\tat org.apache.spark.sql.execution.InputRDDCodegen.inputRDDs(WholeStageCodegenExec.scala:453)\r\n\tat org.apache.spark.sql.execution.InputRDDCodegen.inputRDDs$(WholeStageCodegenExec.scala:452)\r\n\tat org.apache.spark.sql.execution.InputAdapter.inputRDDs(WholeStageCodegenExec.scala:496)\r\n\tat org.apache.spark.sql.execution.aggregate.HashAggregateExec.inputRDDs(HashAggregateExec.scala:141)\r\n\tat org.apache.spark.sql.execution.WholeStageCodegenExec.doExecute(WholeStageCodegenExec.scala:746)\r\n\tat org.apache.spark.sql.execution.SparkPlan.$anonfun$execute$1(SparkPlan.scala:180)\r\n\tat org.apache.spark.sql.execution.SparkPlan.$anonfun$executeQuery$1(SparkPlan.scala:218)\r\n\tat org.apache.spark.rdd.RDDOperationScope$.withScope(RDDOperationScope.scala:151)\r\n\tat org.apache.spark.sql.execution.SparkPlan.executeQuery(SparkPlan.scala:215)\r\n\tat org.apache.spark.sql.execution.SparkPlan.execute(SparkPlan.scala:176)\r\n\tat org.apache.spark.sql.execution.SparkPlan.getByteArrayRdd(SparkPlan.scala:321)\r\n\tat org.apache.spark.sql.execution.SparkPlan.executeTake(SparkPlan.scala:439)\r\n\tat org.apache.spark.sql.execution.SparkPlan.executeTake(SparkPlan.scala:425)\r\n\tat org.apache.spark.sql.execution.CollectLimitExec.executeCollect(limit.scala:47)\r\n\tat org.apache.spark.sql.Dataset.collectFromPlan(Dataset.scala:3696)\r\n\tat org.apache.spark.sql.Dataset.$anonfun$head$1(Dataset.scala:2722)\r\n\tat org.apache.spark.sql.Dataset.$anonfun$withAction$1(Dataset.scala:3687)\r\n\tat org.apache.spark.sql.execution.SQLExecution$.$anonfun$withNewExecutionId$5(SQLExecution.scala:103)\r\n\tat org.apache.spark.sql.execution.SQLExecution$.withSQLConfPropagated(SQLExecution.scala:163)\r\n\tat org.apache.spark.sql.execution.SQLExecution$.$anonfun$withNewExecutionId$1(SQLExecution.scala:90)\r\n\tat org.apache.spark.sql.SparkSession.withActive(SparkSession.scala:775)\r\n\tat org.apache.spark.sql.execution.SQLExecution$.withNewExecutionId(SQLExecution.scala:64)\r\n\tat org.apache.spark.sql.Dataset.withAction(Dataset.scala:3685)\r\n\tat org.apache.spark.sql.Dataset.head(Dataset.scala:2722)\r\n\tat org.apache.spark.sql.Dataset.take(Dataset.scala:2929)\r\n\tat org.apache.spark.sql.Dataset.getRows(Dataset.scala:301)\r\n\tat org.apache.spark.sql.Dataset.showString(Dataset.scala:338)\r\n\tat java.base/jdk.internal.reflect.NativeMethodAccessorImpl.invoke0(Native Method)\r\n\tat java.base/jdk.internal.reflect.NativeMethodAccessorImpl.invoke(NativeMethodAccessorImpl.java:62)\r\n\tat java.base/jdk.internal.reflect.DelegatingMethodAccessorImpl.invoke(DelegatingMethodAccessorImpl.java:43)\r\n\tat java.base/java.lang.reflect.Method.invoke(Method.java:566)\r\n\tat py4j.reflection.MethodInvoker.invoke(MethodInvoker.java:244)\r\n\tat py4j.reflection.ReflectionEngine.invoke(ReflectionEngine.java:357)\r\n\tat py4j.Gateway.invoke(Gateway.java:282)\r\n\tat py4j.commands.AbstractCommand.invokeMethod(AbstractCommand.java:132)\r\n\tat py4j.commands.CallCommand.execute(CallCommand.java:79)\r\n\tat py4j.GatewayConnection.run(GatewayConnection.java:238)\r\n\tat java.base/java.lang.Thread.run(Thread.java:829)\r\nCaused by: java.util.concurrent.ExecutionException: org.apache.spark.SparkException: Job aborted due to stage failure: Task 0 in stage 30.0 failed 1 times, most recent failure: Lost task 0.0 in stage 30.0 (TID 468) (DESKTOP-TCBMIMP.fios-router.home executor driver): TaskResultLost (result lost from block manager)\nDriver stacktrace:\r\n\tat java.base/java.util.concurrent.FutureTask.report(FutureTask.java:122)\r\n\tat java.base/java.util.concurrent.FutureTask.get(FutureTask.java:205)\r\n\tat org.apache.spark.sql.execution.exchange.BroadcastExchangeExec.doExecuteBroadcast(BroadcastExchangeExec.scala:194)\r\n\tat org.apache.spark.sql.execution.InputAdapter.doExecuteBroadcast(WholeStageCodegenExec.scala:515)\r\n\tat org.apache.spark.sql.execution.SparkPlan.$anonfun$executeBroadcast$1(SparkPlan.scala:193)\r\n\tat org.apache.spark.sql.execution.SparkPlan.$anonfun$executeQuery$1(SparkPlan.scala:218)\r\n\tat org.apache.spark.rdd.RDDOperationScope$.withScope(RDDOperationScope.scala:151)\r\n\tat org.apache.spark.sql.execution.SparkPlan.executeQuery(SparkPlan.scala:215)\r\n\tat org.apache.spark.sql.execution.SparkPlan.executeBroadcast(SparkPlan.scala:189)\r\n\tat org.apache.spark.sql.execution.joins.BroadcastHashJoinExec.prepareBroadcast(BroadcastHashJoinExec.scala:203)\r\n\tat org.apache.spark.sql.execution.joins.BroadcastHashJoinExec.prepareRelation(BroadcastHashJoinExec.scala:217)\r\n\tat org.apache.spark.sql.execution.joins.HashJoin.codegenInner(HashJoin.scala:449)\r\n\tat org.apache.spark.sql.execution.joins.HashJoin.codegenInner$(HashJoin.scala:448)\r\n\tat org.apache.spark.sql.execution.joins.BroadcastHashJoinExec.codegenInner(BroadcastHashJoinExec.scala:40)\r\n\tat org.apache.spark.sql.execution.joins.HashJoin.doConsume(HashJoin.scala:357)\r\n\tat org.apache.spark.sql.execution.joins.HashJoin.doConsume$(HashJoin.scala:355)\r\n\tat org.apache.spark.sql.execution.joins.BroadcastHashJoinExec.doConsume(BroadcastHashJoinExec.scala:40)\r\n\tat org.apache.spark.sql.execution.CodegenSupport.consume(WholeStageCodegenExec.scala:194)\r\n\tat org.apache.spark.sql.execution.CodegenSupport.consume$(WholeStageCodegenExec.scala:149)\r\n\tat org.apache.spark.sql.execution.FilterExec.consume(basicPhysicalOperators.scala:113)\r\n\tat org.apache.spark.sql.execution.FilterExec.doConsume(basicPhysicalOperators.scala:238)\r\n\tat org.apache.spark.sql.execution.CodegenSupport.consume(WholeStageCodegenExec.scala:194)\r\n\tat org.apache.spark.sql.execution.CodegenSupport.consume$(WholeStageCodegenExec.scala:149)\r\n\tat org.apache.spark.sql.execution.InputAdapter.consume(WholeStageCodegenExec.scala:496)\r\n\tat org.apache.spark.sql.execution.InputRDDCodegen.doProduce(WholeStageCodegenExec.scala:483)\r\n\tat org.apache.spark.sql.execution.InputRDDCodegen.doProduce$(WholeStageCodegenExec.scala:456)\r\n\tat org.apache.spark.sql.execution.InputAdapter.doProduce(WholeStageCodegenExec.scala:496)\r\n\tat org.apache.spark.sql.execution.CodegenSupport.$anonfun$produce$1(WholeStageCodegenExec.scala:95)\r\n\tat org.apache.spark.sql.execution.SparkPlan.$anonfun$executeQuery$1(SparkPlan.scala:218)\r\n\tat org.apache.spark.rdd.RDDOperationScope$.withScope(RDDOperationScope.scala:151)\r\n\tat org.apache.spark.sql.execution.SparkPlan.executeQuery(SparkPlan.scala:215)\r\n\tat org.apache.spark.sql.execution.CodegenSupport.produce(WholeStageCodegenExec.scala:90)\r\n\tat org.apache.spark.sql.execution.CodegenSupport.produce$(WholeStageCodegenExec.scala:90)\r\n\tat org.apache.spark.sql.execution.InputAdapter.produce(WholeStageCodegenExec.scala:496)\r\n\tat org.apache.spark.sql.execution.FilterExec.doProduce(basicPhysicalOperators.scala:153)\r\n\tat org.apache.spark.sql.execution.CodegenSupport.$anonfun$produce$1(WholeStageCodegenExec.scala:95)\r\n\tat org.apache.spark.sql.execution.SparkPlan.$anonfun$executeQuery$1(SparkPlan.scala:218)\r\n\tat org.apache.spark.rdd.RDDOperationScope$.withScope(RDDOperationScope.scala:151)\r\n\tat org.apache.spark.sql.execution.SparkPlan.executeQuery(SparkPlan.scala:215)\r\n\tat org.apache.spark.sql.execution.CodegenSupport.produce(WholeStageCodegenExec.scala:90)\r\n\tat org.apache.spark.sql.execution.CodegenSupport.produce$(WholeStageCodegenExec.scala:90)\r\n\tat org.apache.spark.sql.execution.FilterExec.produce(basicPhysicalOperators.scala:113)\r\n\tat org.apache.spark.sql.execution.joins.HashJoin.doProduce(HashJoin.scala:352)\r\n\tat org.apache.spark.sql.execution.joins.HashJoin.doProduce$(HashJoin.scala:351)\r\n\tat org.apache.spark.sql.execution.joins.BroadcastHashJoinExec.doProduce(BroadcastHashJoinExec.scala:40)\r\n\tat org.apache.spark.sql.execution.CodegenSupport.$anonfun$produce$1(WholeStageCodegenExec.scala:95)\r\n\tat org.apache.spark.sql.execution.SparkPlan.$anonfun$executeQuery$1(SparkPlan.scala:218)\r\n\tat org.apache.spark.rdd.RDDOperationScope$.withScope(RDDOperationScope.scala:151)\r\n\tat org.apache.spark.sql.execution.SparkPlan.executeQuery(SparkPlan.scala:215)\r\n\tat org.apache.spark.sql.execution.CodegenSupport.produce(WholeStageCodegenExec.scala:90)\r\n\tat org.apache.spark.sql.execution.CodegenSupport.produce$(WholeStageCodegenExec.scala:90)\r\n\tat org.apache.spark.sql.execution.joins.BroadcastHashJoinExec.produce(BroadcastHashJoinExec.scala:40)\r\n\tat org.apache.spark.sql.execution.ProjectExec.doProduce(basicPhysicalOperators.scala:54)\r\n\tat org.apache.spark.sql.execution.CodegenSupport.$anonfun$produce$1(WholeStageCodegenExec.scala:95)\r\n\tat org.apache.spark.sql.execution.SparkPlan.$anonfun$executeQuery$1(SparkPlan.scala:218)\r\n\tat org.apache.spark.rdd.RDDOperationScope$.withScope(RDDOperationScope.scala:151)\r\n\tat org.apache.spark.sql.execution.SparkPlan.executeQuery(SparkPlan.scala:215)\r\n\tat org.apache.spark.sql.execution.CodegenSupport.produce(WholeStageCodegenExec.scala:90)\r\n\tat org.apache.spark.sql.execution.CodegenSupport.produce$(WholeStageCodegenExec.scala:90)\r\n\tat org.apache.spark.sql.execution.ProjectExec.produce(basicPhysicalOperators.scala:41)\r\n\tat org.apache.spark.sql.execution.WholeStageCodegenExec.doCodeGen(WholeStageCodegenExec.scala:655)\r\n\tat org.apache.spark.sql.execution.WholeStageCodegenExec.doExecute(WholeStageCodegenExec.scala:718)\r\n\tat org.apache.spark.sql.execution.SparkPlan.$anonfun$execute$1(SparkPlan.scala:180)\r\n\tat org.apache.spark.sql.execution.SparkPlan.$anonfun$executeQuery$1(SparkPlan.scala:218)\r\n\tat org.apache.spark.rdd.RDDOperationScope$.withScope(RDDOperationScope.scala:151)\r\n\tat org.apache.spark.sql.execution.SparkPlan.executeQuery(SparkPlan.scala:215)\r\n\tat org.apache.spark.sql.execution.SparkPlan.execute(SparkPlan.scala:176)\r\n\tat org.apache.spark.sql.execution.GenerateExec.doExecute(GenerateExec.scala:80)\r\n\tat org.apache.spark.sql.execution.SparkPlan.$anonfun$execute$1(SparkPlan.scala:180)\r\n\tat org.apache.spark.sql.execution.SparkPlan.$anonfun$executeQuery$1(SparkPlan.scala:218)\r\n\tat org.apache.spark.rdd.RDDOperationScope$.withScope(RDDOperationScope.scala:151)\r\n\tat org.apache.spark.sql.execution.SparkPlan.executeQuery(SparkPlan.scala:215)\r\n\tat org.apache.spark.sql.execution.SparkPlan.execute(SparkPlan.scala:176)\r\n\tat org.apache.spark.sql.execution.InputAdapter.inputRDD(WholeStageCodegenExec.scala:525)\r\n\tat org.apache.spark.sql.execution.InputRDDCodegen.inputRDDs(WholeStageCodegenExec.scala:453)\r\n\tat org.apache.spark.sql.execution.InputRDDCodegen.inputRDDs$(WholeStageCodegenExec.scala:452)\r\n\tat org.apache.spark.sql.execution.InputAdapter.inputRDDs(WholeStageCodegenExec.scala:496)\r\n\tat org.apache.spark.sql.execution.aggregate.HashAggregateExec.inputRDDs(HashAggregateExec.scala:141)\r\n\tat org.apache.spark.sql.execution.WholeStageCodegenExec.doExecute(WholeStageCodegenExec.scala:746)\r\n\tat org.apache.spark.sql.execution.SparkPlan.$anonfun$execute$1(SparkPlan.scala:180)\r\n\tat org.apache.spark.sql.execution.SparkPlan.$anonfun$executeQuery$1(SparkPlan.scala:218)\r\n\tat org.apache.spark.rdd.RDDOperationScope$.withScope(RDDOperationScope.scala:151)\r\n\tat org.apache.spark.sql.execution.SparkPlan.executeQuery(SparkPlan.scala:215)\r\n\tat org.apache.spark.sql.execution.SparkPlan.execute(SparkPlan.scala:176)\r\n\tat org.apache.spark.sql.execution.exchange.ShuffleExchangeExec.inputRDD$lzycompute(ShuffleExchangeExec.scala:118)\r\n\tat org.apache.spark.sql.execution.exchange.ShuffleExchangeExec.inputRDD(ShuffleExchangeExec.scala:118)\r\n\tat org.apache.spark.sql.execution.exchange.ShuffleExchangeExec.shuffleDependency$lzycompute(ShuffleExchangeExec.scala:151)\r\n\tat org.apache.spark.sql.execution.exchange.ShuffleExchangeExec.shuffleDependency(ShuffleExchangeExec.scala:149)\r\n\tat org.apache.spark.sql.execution.exchange.ShuffleExchangeExec.$anonfun$doExecute$1(ShuffleExchangeExec.scala:166)\r\n\tat org.apache.spark.sql.catalyst.errors.package$.attachTree(package.scala:52)\r\n\t... 45 more\r\nCaused by: org.apache.spark.SparkException: Job aborted due to stage failure: Task 0 in stage 30.0 failed 1 times, most recent failure: Lost task 0.0 in stage 30.0 (TID 468) (DESKTOP-TCBMIMP.fios-router.home executor driver): TaskResultLost (result lost from block manager)\nDriver stacktrace:\r\n\tat org.apache.spark.scheduler.DAGScheduler.failJobAndIndependentStages(DAGScheduler.scala:2258)\r\n\tat org.apache.spark.scheduler.DAGScheduler.$anonfun$abortStage$2(DAGScheduler.scala:2207)\r\n\tat org.apache.spark.scheduler.DAGScheduler.$anonfun$abortStage$2$adapted(DAGScheduler.scala:2206)\r\n\tat scala.collection.mutable.ResizableArray.foreach(ResizableArray.scala:62)\r\n\tat scala.collection.mutable.ResizableArray.foreach$(ResizableArray.scala:55)\r\n\tat scala.collection.mutable.ArrayBuffer.foreach(ArrayBuffer.scala:49)\r\n\tat org.apache.spark.scheduler.DAGScheduler.abortStage(DAGScheduler.scala:2206)\r\n\tat org.apache.spark.scheduler.DAGScheduler.$anonfun$handleTaskSetFailed$1(DAGScheduler.scala:1079)\r\n\tat org.apache.spark.scheduler.DAGScheduler.$anonfun$handleTaskSetFailed$1$adapted(DAGScheduler.scala:1079)\r\n\tat scala.Option.foreach(Option.scala:407)\r\n\tat org.apache.spark.scheduler.DAGScheduler.handleTaskSetFailed(DAGScheduler.scala:1079)\r\n\tat org.apache.spark.scheduler.DAGSchedulerEventProcessLoop.doOnReceive(DAGScheduler.scala:2445)\r\n\tat org.apache.spark.scheduler.DAGSchedulerEventProcessLoop.onReceive(DAGScheduler.scala:2387)\r\n\tat org.apache.spark.scheduler.DAGSchedulerEventProcessLoop.onReceive(DAGScheduler.scala:2376)\r\n\tat org.apache.spark.util.EventLoop$$anon$1.run(EventLoop.scala:49)\r\n\tat org.apache.spark.scheduler.DAGScheduler.runJob(DAGScheduler.scala:868)\r\n\tat org.apache.spark.SparkContext.runJob(SparkContext.scala:2196)\r\n\tat org.apache.spark.SparkContext.runJob(SparkContext.scala:2217)\r\n\tat org.apache.spark.SparkContext.runJob(SparkContext.scala:2236)\r\n\tat org.apache.spark.SparkContext.runJob(SparkContext.scala:2261)\r\n\tat org.apache.spark.rdd.RDD.$anonfun$collect$1(RDD.scala:1030)\r\n\tat org.apache.spark.rdd.RDDOperationScope$.withScope(RDDOperationScope.scala:151)\r\n\tat org.apache.spark.rdd.RDDOperationScope$.withScope(RDDOperationScope.scala:112)\r\n\tat org.apache.spark.rdd.RDD.withScope(RDD.scala:414)\r\n\tat org.apache.spark.rdd.RDD.collect(RDD.scala:1029)\r\n\tat org.apache.spark.sql.execution.SparkPlan.executeCollectIterator(SparkPlan.scala:397)\r\n\tat org.apache.spark.sql.execution.exchange.BroadcastExchangeExec.$anonfun$relationFuture$1(BroadcastExchangeExec.scala:118)\r\n\tat org.apache.spark.sql.execution.SQLExecution$.$anonfun$withThreadLocalCaptured$1(SQLExecution.scala:185)\r\n\tat java.base/java.util.concurrent.FutureTask.run(FutureTask.java:264)\r\n\tat java.base/java.util.concurrent.ThreadPoolExecutor.runWorker(ThreadPoolExecutor.java:1128)\r\n\tat java.base/java.util.concurrent.ThreadPoolExecutor$Worker.run(ThreadPoolExecutor.java:628)\r\n\t... 1 more\r\n",
     "output_type": "error",
     "traceback": [
      "\u001b[1;31m---------------------------------------------------------------------------\u001b[0m",
      "\u001b[1;31mPy4JJavaError\u001b[0m                             Traceback (most recent call last)",
      "\u001b[1;32m<ipython-input-16-430275be133e>\u001b[0m in \u001b[0;36m<module>\u001b[1;34m\u001b[0m\n\u001b[0;32m      1\u001b[0m \u001b[0mgenres_grouped\u001b[0m \u001b[1;33m=\u001b[0m \u001b[0mgenres_ratings_exploded\u001b[0m\u001b[1;33m.\u001b[0m\u001b[0mgroupby\u001b[0m\u001b[1;33m(\u001b[0m\u001b[1;34m'genre'\u001b[0m\u001b[1;33m)\u001b[0m\u001b[1;33m\u001b[0m\u001b[1;33m\u001b[0m\u001b[0m\n\u001b[1;32m----> 2\u001b[1;33m \u001b[0mgenres_grouped\u001b[0m\u001b[1;33m.\u001b[0m\u001b[0mcount\u001b[0m\u001b[1;33m(\u001b[0m\u001b[1;33m)\u001b[0m\u001b[1;33m.\u001b[0m\u001b[0mshow\u001b[0m\u001b[1;33m(\u001b[0m\u001b[1;33m)\u001b[0m\u001b[1;33m\u001b[0m\u001b[1;33m\u001b[0m\u001b[0m\n\u001b[0m",
      "\u001b[1;32m~\\anaconda3\\lib\\site-packages\\pyspark\\sql\\dataframe.py\u001b[0m in \u001b[0;36mshow\u001b[1;34m(self, n, truncate, vertical)\u001b[0m\n\u001b[0;32m    482\u001b[0m         \"\"\"\n\u001b[0;32m    483\u001b[0m         \u001b[1;32mif\u001b[0m \u001b[0misinstance\u001b[0m\u001b[1;33m(\u001b[0m\u001b[0mtruncate\u001b[0m\u001b[1;33m,\u001b[0m \u001b[0mbool\u001b[0m\u001b[1;33m)\u001b[0m \u001b[1;32mand\u001b[0m \u001b[0mtruncate\u001b[0m\u001b[1;33m:\u001b[0m\u001b[1;33m\u001b[0m\u001b[1;33m\u001b[0m\u001b[0m\n\u001b[1;32m--> 484\u001b[1;33m             \u001b[0mprint\u001b[0m\u001b[1;33m(\u001b[0m\u001b[0mself\u001b[0m\u001b[1;33m.\u001b[0m\u001b[0m_jdf\u001b[0m\u001b[1;33m.\u001b[0m\u001b[0mshowString\u001b[0m\u001b[1;33m(\u001b[0m\u001b[0mn\u001b[0m\u001b[1;33m,\u001b[0m \u001b[1;36m20\u001b[0m\u001b[1;33m,\u001b[0m \u001b[0mvertical\u001b[0m\u001b[1;33m)\u001b[0m\u001b[1;33m)\u001b[0m\u001b[1;33m\u001b[0m\u001b[1;33m\u001b[0m\u001b[0m\n\u001b[0m\u001b[0;32m    485\u001b[0m         \u001b[1;32melse\u001b[0m\u001b[1;33m:\u001b[0m\u001b[1;33m\u001b[0m\u001b[1;33m\u001b[0m\u001b[0m\n\u001b[0;32m    486\u001b[0m             \u001b[0mprint\u001b[0m\u001b[1;33m(\u001b[0m\u001b[0mself\u001b[0m\u001b[1;33m.\u001b[0m\u001b[0m_jdf\u001b[0m\u001b[1;33m.\u001b[0m\u001b[0mshowString\u001b[0m\u001b[1;33m(\u001b[0m\u001b[0mn\u001b[0m\u001b[1;33m,\u001b[0m \u001b[0mint\u001b[0m\u001b[1;33m(\u001b[0m\u001b[0mtruncate\u001b[0m\u001b[1;33m)\u001b[0m\u001b[1;33m,\u001b[0m \u001b[0mvertical\u001b[0m\u001b[1;33m)\u001b[0m\u001b[1;33m)\u001b[0m\u001b[1;33m\u001b[0m\u001b[1;33m\u001b[0m\u001b[0m\n",
      "\u001b[1;32m~\\anaconda3\\lib\\site-packages\\py4j\\java_gateway.py\u001b[0m in \u001b[0;36m__call__\u001b[1;34m(self, *args)\u001b[0m\n\u001b[0;32m   1307\u001b[0m \u001b[1;33m\u001b[0m\u001b[0m\n\u001b[0;32m   1308\u001b[0m         \u001b[0manswer\u001b[0m \u001b[1;33m=\u001b[0m \u001b[0mself\u001b[0m\u001b[1;33m.\u001b[0m\u001b[0mgateway_client\u001b[0m\u001b[1;33m.\u001b[0m\u001b[0msend_command\u001b[0m\u001b[1;33m(\u001b[0m\u001b[0mcommand\u001b[0m\u001b[1;33m)\u001b[0m\u001b[1;33m\u001b[0m\u001b[1;33m\u001b[0m\u001b[0m\n\u001b[1;32m-> 1309\u001b[1;33m         return_value = get_return_value(\n\u001b[0m\u001b[0;32m   1310\u001b[0m             answer, self.gateway_client, self.target_id, self.name)\n\u001b[0;32m   1311\u001b[0m \u001b[1;33m\u001b[0m\u001b[0m\n",
      "\u001b[1;32m~\\anaconda3\\lib\\site-packages\\pyspark\\sql\\utils.py\u001b[0m in \u001b[0;36mdeco\u001b[1;34m(*a, **kw)\u001b[0m\n\u001b[0;32m    109\u001b[0m     \u001b[1;32mdef\u001b[0m \u001b[0mdeco\u001b[0m\u001b[1;33m(\u001b[0m\u001b[1;33m*\u001b[0m\u001b[0ma\u001b[0m\u001b[1;33m,\u001b[0m \u001b[1;33m**\u001b[0m\u001b[0mkw\u001b[0m\u001b[1;33m)\u001b[0m\u001b[1;33m:\u001b[0m\u001b[1;33m\u001b[0m\u001b[1;33m\u001b[0m\u001b[0m\n\u001b[0;32m    110\u001b[0m         \u001b[1;32mtry\u001b[0m\u001b[1;33m:\u001b[0m\u001b[1;33m\u001b[0m\u001b[1;33m\u001b[0m\u001b[0m\n\u001b[1;32m--> 111\u001b[1;33m             \u001b[1;32mreturn\u001b[0m \u001b[0mf\u001b[0m\u001b[1;33m(\u001b[0m\u001b[1;33m*\u001b[0m\u001b[0ma\u001b[0m\u001b[1;33m,\u001b[0m \u001b[1;33m**\u001b[0m\u001b[0mkw\u001b[0m\u001b[1;33m)\u001b[0m\u001b[1;33m\u001b[0m\u001b[1;33m\u001b[0m\u001b[0m\n\u001b[0m\u001b[0;32m    112\u001b[0m         \u001b[1;32mexcept\u001b[0m \u001b[0mpy4j\u001b[0m\u001b[1;33m.\u001b[0m\u001b[0mprotocol\u001b[0m\u001b[1;33m.\u001b[0m\u001b[0mPy4JJavaError\u001b[0m \u001b[1;32mas\u001b[0m \u001b[0me\u001b[0m\u001b[1;33m:\u001b[0m\u001b[1;33m\u001b[0m\u001b[1;33m\u001b[0m\u001b[0m\n\u001b[0;32m    113\u001b[0m             \u001b[0mconverted\u001b[0m \u001b[1;33m=\u001b[0m \u001b[0mconvert_exception\u001b[0m\u001b[1;33m(\u001b[0m\u001b[0me\u001b[0m\u001b[1;33m.\u001b[0m\u001b[0mjava_exception\u001b[0m\u001b[1;33m)\u001b[0m\u001b[1;33m\u001b[0m\u001b[1;33m\u001b[0m\u001b[0m\n",
      "\u001b[1;32m~\\anaconda3\\lib\\site-packages\\py4j\\protocol.py\u001b[0m in \u001b[0;36mget_return_value\u001b[1;34m(answer, gateway_client, target_id, name)\u001b[0m\n\u001b[0;32m    324\u001b[0m             \u001b[0mvalue\u001b[0m \u001b[1;33m=\u001b[0m \u001b[0mOUTPUT_CONVERTER\u001b[0m\u001b[1;33m[\u001b[0m\u001b[0mtype\u001b[0m\u001b[1;33m]\u001b[0m\u001b[1;33m(\u001b[0m\u001b[0manswer\u001b[0m\u001b[1;33m[\u001b[0m\u001b[1;36m2\u001b[0m\u001b[1;33m:\u001b[0m\u001b[1;33m]\u001b[0m\u001b[1;33m,\u001b[0m \u001b[0mgateway_client\u001b[0m\u001b[1;33m)\u001b[0m\u001b[1;33m\u001b[0m\u001b[1;33m\u001b[0m\u001b[0m\n\u001b[0;32m    325\u001b[0m             \u001b[1;32mif\u001b[0m \u001b[0manswer\u001b[0m\u001b[1;33m[\u001b[0m\u001b[1;36m1\u001b[0m\u001b[1;33m]\u001b[0m \u001b[1;33m==\u001b[0m \u001b[0mREFERENCE_TYPE\u001b[0m\u001b[1;33m:\u001b[0m\u001b[1;33m\u001b[0m\u001b[1;33m\u001b[0m\u001b[0m\n\u001b[1;32m--> 326\u001b[1;33m                 raise Py4JJavaError(\n\u001b[0m\u001b[0;32m    327\u001b[0m                     \u001b[1;34m\"An error occurred while calling {0}{1}{2}.\\n\"\u001b[0m\u001b[1;33m.\u001b[0m\u001b[1;33m\u001b[0m\u001b[1;33m\u001b[0m\u001b[0m\n\u001b[0;32m    328\u001b[0m                     format(target_id, \".\", name), value)\n",
      "\u001b[1;31mPy4JJavaError\u001b[0m: An error occurred while calling o148.showString.\n: org.apache.spark.sql.catalyst.errors.package$TreeNodeException: execute, tree:\nExchange hashpartitioning(genre#402, 200), ENSURE_REQUIREMENTS, [id=#473]\n+- *(3) HashAggregate(keys=[genre#402], functions=[partial_count(1)], output=[genre#402, count#477L])\n   +- Generate explode(split(genres#52, ,, -1)), false, [genre#402]\n      +- *(2) Project [genres#52]\n         +- *(2) BroadcastHashJoin [tconst#44], [tconst#106], Inner, BuildRight, false\n            :- *(2) Filter (((isnotnull(tconst#44) AND isnotnull(genres#52)) AND (size(split(genres#52, ,, -1), true) > 0)) AND isnotnull(split(genres#52, ,, -1)))\n            :  +- FileScan csv [tconst#44,genres#52] Batched: false, DataFilters: [isnotnull(tconst#44), isnotnull(genres#52), (size(split(genres#52, ,, -1), true) > 0), isnotnull..., Format: CSV, Location: InMemoryFileIndex[file:/C:/Users/hlee0/CIS 9760/title.basics.tsv], PartitionFilters: [], PushedFilters: [IsNotNull(tconst), IsNotNull(genres)], ReadSchema: struct<tconst:string,genres:string>\n            +- BroadcastExchange HashedRelationBroadcastMode(List(input[0, string, false]),false), [id=#464]\n               +- *(1) Filter isnotnull(tconst#106)\n                  +- FileScan csv [tconst#106] Batched: false, DataFilters: [isnotnull(tconst#106)], Format: CSV, Location: InMemoryFileIndex[file:/C:/Users/hlee0/CIS 9760/title.ratings.tsv], PartitionFilters: [], PushedFilters: [IsNotNull(tconst)], ReadSchema: struct<tconst:string>\n\r\n\tat org.apache.spark.sql.catalyst.errors.package$.attachTree(package.scala:56)\r\n\tat org.apache.spark.sql.execution.exchange.ShuffleExchangeExec.doExecute(ShuffleExchangeExec.scala:163)\r\n\tat org.apache.spark.sql.execution.SparkPlan.$anonfun$execute$1(SparkPlan.scala:180)\r\n\tat org.apache.spark.sql.execution.SparkPlan.$anonfun$executeQuery$1(SparkPlan.scala:218)\r\n\tat org.apache.spark.rdd.RDDOperationScope$.withScope(RDDOperationScope.scala:151)\r\n\tat org.apache.spark.sql.execution.SparkPlan.executeQuery(SparkPlan.scala:215)\r\n\tat org.apache.spark.sql.execution.SparkPlan.execute(SparkPlan.scala:176)\r\n\tat org.apache.spark.sql.execution.InputAdapter.inputRDD(WholeStageCodegenExec.scala:525)\r\n\tat org.apache.spark.sql.execution.InputRDDCodegen.inputRDDs(WholeStageCodegenExec.scala:453)\r\n\tat org.apache.spark.sql.execution.InputRDDCodegen.inputRDDs$(WholeStageCodegenExec.scala:452)\r\n\tat org.apache.spark.sql.execution.InputAdapter.inputRDDs(WholeStageCodegenExec.scala:496)\r\n\tat org.apache.spark.sql.execution.aggregate.HashAggregateExec.inputRDDs(HashAggregateExec.scala:141)\r\n\tat org.apache.spark.sql.execution.WholeStageCodegenExec.doExecute(WholeStageCodegenExec.scala:746)\r\n\tat org.apache.spark.sql.execution.SparkPlan.$anonfun$execute$1(SparkPlan.scala:180)\r\n\tat org.apache.spark.sql.execution.SparkPlan.$anonfun$executeQuery$1(SparkPlan.scala:218)\r\n\tat org.apache.spark.rdd.RDDOperationScope$.withScope(RDDOperationScope.scala:151)\r\n\tat org.apache.spark.sql.execution.SparkPlan.executeQuery(SparkPlan.scala:215)\r\n\tat org.apache.spark.sql.execution.SparkPlan.execute(SparkPlan.scala:176)\r\n\tat org.apache.spark.sql.execution.SparkPlan.getByteArrayRdd(SparkPlan.scala:321)\r\n\tat org.apache.spark.sql.execution.SparkPlan.executeTake(SparkPlan.scala:439)\r\n\tat org.apache.spark.sql.execution.SparkPlan.executeTake(SparkPlan.scala:425)\r\n\tat org.apache.spark.sql.execution.CollectLimitExec.executeCollect(limit.scala:47)\r\n\tat org.apache.spark.sql.Dataset.collectFromPlan(Dataset.scala:3696)\r\n\tat org.apache.spark.sql.Dataset.$anonfun$head$1(Dataset.scala:2722)\r\n\tat org.apache.spark.sql.Dataset.$anonfun$withAction$1(Dataset.scala:3687)\r\n\tat org.apache.spark.sql.execution.SQLExecution$.$anonfun$withNewExecutionId$5(SQLExecution.scala:103)\r\n\tat org.apache.spark.sql.execution.SQLExecution$.withSQLConfPropagated(SQLExecution.scala:163)\r\n\tat org.apache.spark.sql.execution.SQLExecution$.$anonfun$withNewExecutionId$1(SQLExecution.scala:90)\r\n\tat org.apache.spark.sql.SparkSession.withActive(SparkSession.scala:775)\r\n\tat org.apache.spark.sql.execution.SQLExecution$.withNewExecutionId(SQLExecution.scala:64)\r\n\tat org.apache.spark.sql.Dataset.withAction(Dataset.scala:3685)\r\n\tat org.apache.spark.sql.Dataset.head(Dataset.scala:2722)\r\n\tat org.apache.spark.sql.Dataset.take(Dataset.scala:2929)\r\n\tat org.apache.spark.sql.Dataset.getRows(Dataset.scala:301)\r\n\tat org.apache.spark.sql.Dataset.showString(Dataset.scala:338)\r\n\tat java.base/jdk.internal.reflect.NativeMethodAccessorImpl.invoke0(Native Method)\r\n\tat java.base/jdk.internal.reflect.NativeMethodAccessorImpl.invoke(NativeMethodAccessorImpl.java:62)\r\n\tat java.base/jdk.internal.reflect.DelegatingMethodAccessorImpl.invoke(DelegatingMethodAccessorImpl.java:43)\r\n\tat java.base/java.lang.reflect.Method.invoke(Method.java:566)\r\n\tat py4j.reflection.MethodInvoker.invoke(MethodInvoker.java:244)\r\n\tat py4j.reflection.ReflectionEngine.invoke(ReflectionEngine.java:357)\r\n\tat py4j.Gateway.invoke(Gateway.java:282)\r\n\tat py4j.commands.AbstractCommand.invokeMethod(AbstractCommand.java:132)\r\n\tat py4j.commands.CallCommand.execute(CallCommand.java:79)\r\n\tat py4j.GatewayConnection.run(GatewayConnection.java:238)\r\n\tat java.base/java.lang.Thread.run(Thread.java:829)\r\nCaused by: java.util.concurrent.ExecutionException: org.apache.spark.SparkException: Job aborted due to stage failure: Task 0 in stage 30.0 failed 1 times, most recent failure: Lost task 0.0 in stage 30.0 (TID 468) (DESKTOP-TCBMIMP.fios-router.home executor driver): TaskResultLost (result lost from block manager)\nDriver stacktrace:\r\n\tat java.base/java.util.concurrent.FutureTask.report(FutureTask.java:122)\r\n\tat java.base/java.util.concurrent.FutureTask.get(FutureTask.java:205)\r\n\tat org.apache.spark.sql.execution.exchange.BroadcastExchangeExec.doExecuteBroadcast(BroadcastExchangeExec.scala:194)\r\n\tat org.apache.spark.sql.execution.InputAdapter.doExecuteBroadcast(WholeStageCodegenExec.scala:515)\r\n\tat org.apache.spark.sql.execution.SparkPlan.$anonfun$executeBroadcast$1(SparkPlan.scala:193)\r\n\tat org.apache.spark.sql.execution.SparkPlan.$anonfun$executeQuery$1(SparkPlan.scala:218)\r\n\tat org.apache.spark.rdd.RDDOperationScope$.withScope(RDDOperationScope.scala:151)\r\n\tat org.apache.spark.sql.execution.SparkPlan.executeQuery(SparkPlan.scala:215)\r\n\tat org.apache.spark.sql.execution.SparkPlan.executeBroadcast(SparkPlan.scala:189)\r\n\tat org.apache.spark.sql.execution.joins.BroadcastHashJoinExec.prepareBroadcast(BroadcastHashJoinExec.scala:203)\r\n\tat org.apache.spark.sql.execution.joins.BroadcastHashJoinExec.prepareRelation(BroadcastHashJoinExec.scala:217)\r\n\tat org.apache.spark.sql.execution.joins.HashJoin.codegenInner(HashJoin.scala:449)\r\n\tat org.apache.spark.sql.execution.joins.HashJoin.codegenInner$(HashJoin.scala:448)\r\n\tat org.apache.spark.sql.execution.joins.BroadcastHashJoinExec.codegenInner(BroadcastHashJoinExec.scala:40)\r\n\tat org.apache.spark.sql.execution.joins.HashJoin.doConsume(HashJoin.scala:357)\r\n\tat org.apache.spark.sql.execution.joins.HashJoin.doConsume$(HashJoin.scala:355)\r\n\tat org.apache.spark.sql.execution.joins.BroadcastHashJoinExec.doConsume(BroadcastHashJoinExec.scala:40)\r\n\tat org.apache.spark.sql.execution.CodegenSupport.consume(WholeStageCodegenExec.scala:194)\r\n\tat org.apache.spark.sql.execution.CodegenSupport.consume$(WholeStageCodegenExec.scala:149)\r\n\tat org.apache.spark.sql.execution.FilterExec.consume(basicPhysicalOperators.scala:113)\r\n\tat org.apache.spark.sql.execution.FilterExec.doConsume(basicPhysicalOperators.scala:238)\r\n\tat org.apache.spark.sql.execution.CodegenSupport.consume(WholeStageCodegenExec.scala:194)\r\n\tat org.apache.spark.sql.execution.CodegenSupport.consume$(WholeStageCodegenExec.scala:149)\r\n\tat org.apache.spark.sql.execution.InputAdapter.consume(WholeStageCodegenExec.scala:496)\r\n\tat org.apache.spark.sql.execution.InputRDDCodegen.doProduce(WholeStageCodegenExec.scala:483)\r\n\tat org.apache.spark.sql.execution.InputRDDCodegen.doProduce$(WholeStageCodegenExec.scala:456)\r\n\tat org.apache.spark.sql.execution.InputAdapter.doProduce(WholeStageCodegenExec.scala:496)\r\n\tat org.apache.spark.sql.execution.CodegenSupport.$anonfun$produce$1(WholeStageCodegenExec.scala:95)\r\n\tat org.apache.spark.sql.execution.SparkPlan.$anonfun$executeQuery$1(SparkPlan.scala:218)\r\n\tat org.apache.spark.rdd.RDDOperationScope$.withScope(RDDOperationScope.scala:151)\r\n\tat org.apache.spark.sql.execution.SparkPlan.executeQuery(SparkPlan.scala:215)\r\n\tat org.apache.spark.sql.execution.CodegenSupport.produce(WholeStageCodegenExec.scala:90)\r\n\tat org.apache.spark.sql.execution.CodegenSupport.produce$(WholeStageCodegenExec.scala:90)\r\n\tat org.apache.spark.sql.execution.InputAdapter.produce(WholeStageCodegenExec.scala:496)\r\n\tat org.apache.spark.sql.execution.FilterExec.doProduce(basicPhysicalOperators.scala:153)\r\n\tat org.apache.spark.sql.execution.CodegenSupport.$anonfun$produce$1(WholeStageCodegenExec.scala:95)\r\n\tat org.apache.spark.sql.execution.SparkPlan.$anonfun$executeQuery$1(SparkPlan.scala:218)\r\n\tat org.apache.spark.rdd.RDDOperationScope$.withScope(RDDOperationScope.scala:151)\r\n\tat org.apache.spark.sql.execution.SparkPlan.executeQuery(SparkPlan.scala:215)\r\n\tat org.apache.spark.sql.execution.CodegenSupport.produce(WholeStageCodegenExec.scala:90)\r\n\tat org.apache.spark.sql.execution.CodegenSupport.produce$(WholeStageCodegenExec.scala:90)\r\n\tat org.apache.spark.sql.execution.FilterExec.produce(basicPhysicalOperators.scala:113)\r\n\tat org.apache.spark.sql.execution.joins.HashJoin.doProduce(HashJoin.scala:352)\r\n\tat org.apache.spark.sql.execution.joins.HashJoin.doProduce$(HashJoin.scala:351)\r\n\tat org.apache.spark.sql.execution.joins.BroadcastHashJoinExec.doProduce(BroadcastHashJoinExec.scala:40)\r\n\tat org.apache.spark.sql.execution.CodegenSupport.$anonfun$produce$1(WholeStageCodegenExec.scala:95)\r\n\tat org.apache.spark.sql.execution.SparkPlan.$anonfun$executeQuery$1(SparkPlan.scala:218)\r\n\tat org.apache.spark.rdd.RDDOperationScope$.withScope(RDDOperationScope.scala:151)\r\n\tat org.apache.spark.sql.execution.SparkPlan.executeQuery(SparkPlan.scala:215)\r\n\tat org.apache.spark.sql.execution.CodegenSupport.produce(WholeStageCodegenExec.scala:90)\r\n\tat org.apache.spark.sql.execution.CodegenSupport.produce$(WholeStageCodegenExec.scala:90)\r\n\tat org.apache.spark.sql.execution.joins.BroadcastHashJoinExec.produce(BroadcastHashJoinExec.scala:40)\r\n\tat org.apache.spark.sql.execution.ProjectExec.doProduce(basicPhysicalOperators.scala:54)\r\n\tat org.apache.spark.sql.execution.CodegenSupport.$anonfun$produce$1(WholeStageCodegenExec.scala:95)\r\n\tat org.apache.spark.sql.execution.SparkPlan.$anonfun$executeQuery$1(SparkPlan.scala:218)\r\n\tat org.apache.spark.rdd.RDDOperationScope$.withScope(RDDOperationScope.scala:151)\r\n\tat org.apache.spark.sql.execution.SparkPlan.executeQuery(SparkPlan.scala:215)\r\n\tat org.apache.spark.sql.execution.CodegenSupport.produce(WholeStageCodegenExec.scala:90)\r\n\tat org.apache.spark.sql.execution.CodegenSupport.produce$(WholeStageCodegenExec.scala:90)\r\n\tat org.apache.spark.sql.execution.ProjectExec.produce(basicPhysicalOperators.scala:41)\r\n\tat org.apache.spark.sql.execution.WholeStageCodegenExec.doCodeGen(WholeStageCodegenExec.scala:655)\r\n\tat org.apache.spark.sql.execution.WholeStageCodegenExec.doExecute(WholeStageCodegenExec.scala:718)\r\n\tat org.apache.spark.sql.execution.SparkPlan.$anonfun$execute$1(SparkPlan.scala:180)\r\n\tat org.apache.spark.sql.execution.SparkPlan.$anonfun$executeQuery$1(SparkPlan.scala:218)\r\n\tat org.apache.spark.rdd.RDDOperationScope$.withScope(RDDOperationScope.scala:151)\r\n\tat org.apache.spark.sql.execution.SparkPlan.executeQuery(SparkPlan.scala:215)\r\n\tat org.apache.spark.sql.execution.SparkPlan.execute(SparkPlan.scala:176)\r\n\tat org.apache.spark.sql.execution.GenerateExec.doExecute(GenerateExec.scala:80)\r\n\tat org.apache.spark.sql.execution.SparkPlan.$anonfun$execute$1(SparkPlan.scala:180)\r\n\tat org.apache.spark.sql.execution.SparkPlan.$anonfun$executeQuery$1(SparkPlan.scala:218)\r\n\tat org.apache.spark.rdd.RDDOperationScope$.withScope(RDDOperationScope.scala:151)\r\n\tat org.apache.spark.sql.execution.SparkPlan.executeQuery(SparkPlan.scala:215)\r\n\tat org.apache.spark.sql.execution.SparkPlan.execute(SparkPlan.scala:176)\r\n\tat org.apache.spark.sql.execution.InputAdapter.inputRDD(WholeStageCodegenExec.scala:525)\r\n\tat org.apache.spark.sql.execution.InputRDDCodegen.inputRDDs(WholeStageCodegenExec.scala:453)\r\n\tat org.apache.spark.sql.execution.InputRDDCodegen.inputRDDs$(WholeStageCodegenExec.scala:452)\r\n\tat org.apache.spark.sql.execution.InputAdapter.inputRDDs(WholeStageCodegenExec.scala:496)\r\n\tat org.apache.spark.sql.execution.aggregate.HashAggregateExec.inputRDDs(HashAggregateExec.scala:141)\r\n\tat org.apache.spark.sql.execution.WholeStageCodegenExec.doExecute(WholeStageCodegenExec.scala:746)\r\n\tat org.apache.spark.sql.execution.SparkPlan.$anonfun$execute$1(SparkPlan.scala:180)\r\n\tat org.apache.spark.sql.execution.SparkPlan.$anonfun$executeQuery$1(SparkPlan.scala:218)\r\n\tat org.apache.spark.rdd.RDDOperationScope$.withScope(RDDOperationScope.scala:151)\r\n\tat org.apache.spark.sql.execution.SparkPlan.executeQuery(SparkPlan.scala:215)\r\n\tat org.apache.spark.sql.execution.SparkPlan.execute(SparkPlan.scala:176)\r\n\tat org.apache.spark.sql.execution.exchange.ShuffleExchangeExec.inputRDD$lzycompute(ShuffleExchangeExec.scala:118)\r\n\tat org.apache.spark.sql.execution.exchange.ShuffleExchangeExec.inputRDD(ShuffleExchangeExec.scala:118)\r\n\tat org.apache.spark.sql.execution.exchange.ShuffleExchangeExec.shuffleDependency$lzycompute(ShuffleExchangeExec.scala:151)\r\n\tat org.apache.spark.sql.execution.exchange.ShuffleExchangeExec.shuffleDependency(ShuffleExchangeExec.scala:149)\r\n\tat org.apache.spark.sql.execution.exchange.ShuffleExchangeExec.$anonfun$doExecute$1(ShuffleExchangeExec.scala:166)\r\n\tat org.apache.spark.sql.catalyst.errors.package$.attachTree(package.scala:52)\r\n\t... 45 more\r\nCaused by: org.apache.spark.SparkException: Job aborted due to stage failure: Task 0 in stage 30.0 failed 1 times, most recent failure: Lost task 0.0 in stage 30.0 (TID 468) (DESKTOP-TCBMIMP.fios-router.home executor driver): TaskResultLost (result lost from block manager)\nDriver stacktrace:\r\n\tat org.apache.spark.scheduler.DAGScheduler.failJobAndIndependentStages(DAGScheduler.scala:2258)\r\n\tat org.apache.spark.scheduler.DAGScheduler.$anonfun$abortStage$2(DAGScheduler.scala:2207)\r\n\tat org.apache.spark.scheduler.DAGScheduler.$anonfun$abortStage$2$adapted(DAGScheduler.scala:2206)\r\n\tat scala.collection.mutable.ResizableArray.foreach(ResizableArray.scala:62)\r\n\tat scala.collection.mutable.ResizableArray.foreach$(ResizableArray.scala:55)\r\n\tat scala.collection.mutable.ArrayBuffer.foreach(ArrayBuffer.scala:49)\r\n\tat org.apache.spark.scheduler.DAGScheduler.abortStage(DAGScheduler.scala:2206)\r\n\tat org.apache.spark.scheduler.DAGScheduler.$anonfun$handleTaskSetFailed$1(DAGScheduler.scala:1079)\r\n\tat org.apache.spark.scheduler.DAGScheduler.$anonfun$handleTaskSetFailed$1$adapted(DAGScheduler.scala:1079)\r\n\tat scala.Option.foreach(Option.scala:407)\r\n\tat org.apache.spark.scheduler.DAGScheduler.handleTaskSetFailed(DAGScheduler.scala:1079)\r\n\tat org.apache.spark.scheduler.DAGSchedulerEventProcessLoop.doOnReceive(DAGScheduler.scala:2445)\r\n\tat org.apache.spark.scheduler.DAGSchedulerEventProcessLoop.onReceive(DAGScheduler.scala:2387)\r\n\tat org.apache.spark.scheduler.DAGSchedulerEventProcessLoop.onReceive(DAGScheduler.scala:2376)\r\n\tat org.apache.spark.util.EventLoop$$anon$1.run(EventLoop.scala:49)\r\n\tat org.apache.spark.scheduler.DAGScheduler.runJob(DAGScheduler.scala:868)\r\n\tat org.apache.spark.SparkContext.runJob(SparkContext.scala:2196)\r\n\tat org.apache.spark.SparkContext.runJob(SparkContext.scala:2217)\r\n\tat org.apache.spark.SparkContext.runJob(SparkContext.scala:2236)\r\n\tat org.apache.spark.SparkContext.runJob(SparkContext.scala:2261)\r\n\tat org.apache.spark.rdd.RDD.$anonfun$collect$1(RDD.scala:1030)\r\n\tat org.apache.spark.rdd.RDDOperationScope$.withScope(RDDOperationScope.scala:151)\r\n\tat org.apache.spark.rdd.RDDOperationScope$.withScope(RDDOperationScope.scala:112)\r\n\tat org.apache.spark.rdd.RDD.withScope(RDD.scala:414)\r\n\tat org.apache.spark.rdd.RDD.collect(RDD.scala:1029)\r\n\tat org.apache.spark.sql.execution.SparkPlan.executeCollectIterator(SparkPlan.scala:397)\r\n\tat org.apache.spark.sql.execution.exchange.BroadcastExchangeExec.$anonfun$relationFuture$1(BroadcastExchangeExec.scala:118)\r\n\tat org.apache.spark.sql.execution.SQLExecution$.$anonfun$withThreadLocalCaptured$1(SQLExecution.scala:185)\r\n\tat java.base/java.util.concurrent.FutureTask.run(FutureTask.java:264)\r\n\tat java.base/java.util.concurrent.ThreadPoolExecutor.runWorker(ThreadPoolExecutor.java:1128)\r\n\tat java.base/java.util.concurrent.ThreadPoolExecutor$Worker.run(ThreadPoolExecutor.java:628)\r\n\t... 1 more\r\n"
     ]
    }
   ],
   "source": [
    "#count it through groupby\n",
    "\n",
    "genres_grouped = genres_ratings_exploded.groupby('genre')\n",
    "genres_grouped.count().show()"
   ]
  },
  {
   "cell_type": "code",
   "execution_count": 17,
   "id": "55c1bb26",
   "metadata": {},
   "outputs": [
    {
     "data": {
      "application/vnd.jupyter.widget-view+json": {
       "model_id": "186fd258c76c4032b34ea077961b9d1f",
       "version_major": 2,
       "version_minor": 0
      },
      "text/plain": [
       "VBox()"
      ]
     },
     "metadata": {},
     "output_type": "display_data"
    },
    {
     "data": {
      "application/vnd.jupyter.widget-view+json": {
       "model_id": "",
       "version_major": 2,
       "version_minor": 0
      },
      "text/plain": [
       "FloatProgress(value=0.0, bar_style='info', description='Progress:', layout=Layout(height='25px', width='50%'),…"
      ]
     },
     "metadata": {},
     "output_type": "display_data"
    },
    {
     "name": "stdout",
     "output_type": "stream",
     "text": [
      "+-----------+------+\n",
      "|      genre| count|\n",
      "+-----------+------+\n",
      "|      Drama|324657|\n",
      "|     Comedy|315965|\n",
      "|      Short|129929|\n",
      "|Documentary|115456|\n",
      "|     Action|115257|\n",
      "|  Animation|108107|\n",
      "|      Crime|100604|\n",
      "|  Adventure| 99834|\n",
      "|     Family| 75686|\n",
      "|    Romance| 72017|\n",
      "|      Music| 46257|\n",
      "|    Mystery| 44809|\n",
      "| Reality-TV| 44678|\n",
      "|     Horror| 41331|\n",
      "|   Thriller| 39768|\n",
      "|    Fantasy| 39290|\n",
      "|  Talk-Show| 32371|\n",
      "|     Sci-Fi| 28657|\n",
      "|    History| 23912|\n",
      "|         \\N| 20877|\n",
      "+-----------+------+\n",
      "only showing top 20 rows"
     ]
    }
   ],
   "source": [
    "barchart_df = genres_grouped.count().orderBy('count',ascending=False)\n",
    "barchart_df.show()"
   ]
  },
  {
   "cell_type": "code",
   "execution_count": 18,
   "id": "d5d03443",
   "metadata": {},
   "outputs": [
    {
     "data": {
      "application/vnd.jupyter.widget-view+json": {
       "model_id": "e6487b47edf44b7a93311ecb2b297740",
       "version_major": 2,
       "version_minor": 0
      },
      "text/plain": [
       "VBox()"
      ]
     },
     "metadata": {},
     "output_type": "display_data"
    },
    {
     "data": {
      "application/vnd.jupyter.widget-view+json": {
       "model_id": "",
       "version_major": 2,
       "version_minor": 0
      },
      "text/plain": [
       "FloatProgress(value=0.0, bar_style='info', description='Progress:', layout=Layout(height='25px', width='50%'),…"
      ]
     },
     "metadata": {},
     "output_type": "display_data"
    },
    {
     "name": "stdout",
     "output_type": "stream",
     "text": [
      "          genre   count\n",
      "0         Drama  324657\n",
      "1        Comedy  315965\n",
      "2         Short  129929\n",
      "3   Documentary  115456\n",
      "4        Action  115257\n",
      "5     Animation  108107\n",
      "6         Crime  100604\n",
      "7     Adventure   99834\n",
      "8        Family   75686\n",
      "9       Romance   72017\n",
      "10        Music   46257\n",
      "11      Mystery   44809\n",
      "12   Reality-TV   44678\n",
      "13       Horror   41331\n",
      "14     Thriller   39768\n",
      "15      Fantasy   39290\n",
      "16    Talk-Show   32371\n",
      "17       Sci-Fi   28657\n",
      "18      History   23912\n",
      "19           \\N   20877\n",
      "20    Game-Show   19789\n",
      "21    Biography   19507\n",
      "22        Adult   17586\n",
      "23        Sport   16173\n",
      "24         News   13672\n",
      "25      Western   13574\n",
      "26          War   11252\n",
      "27      Musical   10506\n",
      "28    Film-Noir     778"
     ]
    }
   ],
   "source": [
    "pdf = barchart_df.toPandas()\n",
    "pdf"
   ]
  },
  {
   "cell_type": "code",
   "execution_count": 19,
   "id": "1b870ef4",
   "metadata": {
    "scrolled": true
   },
   "outputs": [
    {
     "data": {
      "application/vnd.jupyter.widget-view+json": {
       "model_id": "51638e803c8a40ef9883e0724e8d6419",
       "version_major": 2,
       "version_minor": 0
      },
      "text/plain": [
       "VBox()"
      ]
     },
     "metadata": {},
     "output_type": "display_data"
    },
    {
     "data": {
      "application/vnd.jupyter.widget-view+json": {
       "model_id": "",
       "version_major": 2,
       "version_minor": 0
      },
      "text/plain": [
       "FloatProgress(value=0.0, bar_style='info', description='Progress:', layout=Layout(height='25px', width='50%'),…"
      ]
     },
     "metadata": {},
     "output_type": "display_data"
    },
    {
     "data": {
      "image/png": "[encoded data removed]",
      "text/plain": [
       "<IPython.core.display.Image object>"
      ]
     },
     "metadata": {},
     "output_type": "display_data"
    }
   ],
   "source": [
    "plt.figure(figsize =(10,6))\n",
    "pdf.plot(kind='bar', x='genre', figsize=(10,6))\n",
    "%matplot plt"
   ]
  },
  {
   "cell_type": "code",
   "execution_count": 20,
   "id": "7376fecc",
   "metadata": {},
   "outputs": [
    {
     "data": {
      "application/vnd.jupyter.widget-view+json": {
       "model_id": "9c420ecf2a8f47099e18c04949096986",
       "version_major": 2,
       "version_minor": 0
      },
      "text/plain": [
       "VBox()"
      ]
     },
     "metadata": {},
     "output_type": "display_data"
    },
    {
     "data": {
      "application/vnd.jupyter.widget-view+json": {
       "model_id": "",
       "version_major": 2,
       "version_minor": 0
      },
      "text/plain": [
       "FloatProgress(value=0.0, bar_style='info', description='Progress:', layout=Layout(height='25px', width='50%'),…"
      ]
     },
     "metadata": {},
     "output_type": "display_data"
    },
    {
     "name": "stdout",
     "output_type": "stream",
     "text": [
      "'\\nax = sns.factorplot(x=\"genre\", y=\"count\", data=pdf,size=4, aspect=2, kind=\"bar\")\\nfor axes in ax.axes.flat:\\n axes.set_xticklabels(axes.get_xticklabels(), rotation=65, horizontalalignment=\\'right\\')\\nplt.tight_layout()\\nplt.show()\\n%matplot plt\\n'"
     ]
    }
   ],
   "source": [
    "'''\n",
    "ax = sns.factorplot(x=\"genre\", y=\"count\", data=pdf,size=4, aspect=2, kind=\"bar\")\n",
    "for axes in ax.axes.flat:\n",
    " axes.set_xticklabels(axes.get_xticklabels(), rotation=65, horizontalalignment='right')\n",
    "plt.tight_layout()\n",
    "plt.show()\n",
    "%matplot plt\n",
    "'''"
   ]
  },
  {
   "cell_type": "markdown",
   "id": "dada86c5",
   "metadata": {},
   "source": [
    "# Find the total number of people who were born in 1980 and whose primary profession is soundtrack"
   ]
  },
  {
   "cell_type": "code",
   "execution_count": 18,
   "id": "4f68aa50",
   "metadata": {
    "scrolled": false
   },
   "outputs": [
    {
     "data": {
      "text/plain": [
       "41"
      ]
     },
     "execution_count": 18,
     "metadata": {},
     "output_type": "execute_result"
    }
   ],
   "source": [
    "from pyspark.sql.functions import split, col\n",
    "actors.withColumn('primaryProfession',explode(split('primaryProfession',\",\"))) \\\n",
    "    .filter((actors.primaryProfession == \"soundtrack\") & (actors.birthYear == '1980')) \\\n",
    "    .count()"
   ]
  },
  {
   "cell_type": "markdown",
   "id": "20660ca5",
   "metadata": {},
   "source": [
    "# What year is the movie \"Dead Poets Society\" from?"
   ]
  },
  {
   "cell_type": "code",
   "execution_count": 19,
   "id": "9e777d78",
   "metadata": {},
   "outputs": [
    {
     "name": "stdout",
     "output_type": "stream",
     "text": [
      "+---------+\n",
      "|startYear|\n",
      "+---------+\n",
      "|     1989|\n",
      "|     2019|\n",
      "|     2014|\n",
      "+---------+\n",
      "\n"
     ]
    }
   ],
   "source": [
    "genres.select(\"startYear\") \\\n",
    "    .filter(genres.primaryTitle == \"Dead Poets Society\") \\\n",
    "    .show()"
   ]
  },
  {
   "cell_type": "code",
   "execution_count": 20,
   "id": "c4d98e88",
   "metadata": {},
   "outputs": [
    {
     "name": "stdout",
     "output_type": "stream",
     "text": [
      "+----------+---------+------------------+------------------+-------+---------+-------+--------------+------------+\n",
      "|    tconst|titleType|      primaryTitle|     originalTitle|isAdult|startYear|endYear|runtimeMinutes|      genres|\n",
      "+----------+---------+------------------+------------------+-------+---------+-------+--------------+------------+\n",
      "| tt0097165|    movie|Dead Poets Society|Dead Poets Society|      0|     1989|     \\N|           128|Comedy,Drama|\n",
      "|tt10545570|tvEpisode|Dead Poets Society|Dead Poets Society|      0|     2019|     \\N|            \\N|   Talk-Show|\n",
      "| tt9037200|tvEpisode|Dead Poets Society|Dead Poets Society|      0|     2014|     \\N|            \\N|       Music|\n",
      "+----------+---------+------------------+------------------+-------+---------+-------+--------------+------------+\n",
      "\n"
     ]
    }
   ],
   "source": [
    "## Oops! Three startYear? Doesn't make sense. Let's look at the data\n",
    "genres.filter(genres.primaryTitle == \"Dead Poets Society\") \\\n",
    "    .show()"
   ]
  },
  {
   "cell_type": "code",
   "execution_count": 21,
   "id": "689bdb5e",
   "metadata": {
    "scrolled": false
   },
   "outputs": [
    {
     "name": "stdout",
     "output_type": "stream",
     "text": [
      "+------------------+---------+\n",
      "|      primaryTitle|startYear|\n",
      "+------------------+---------+\n",
      "|Dead Poets Society|     1989|\n",
      "+------------------+---------+\n",
      "\n"
     ]
    },
    {
     "data": {
      "text/plain": [
       "1"
      ]
     },
     "execution_count": 21,
     "metadata": {},
     "output_type": "execute_result"
    }
   ],
   "source": [
    "# Seems that there are tv episodes named the same\n",
    "# Let's do an additional filtering\n",
    "tmp=genres.select(\"primaryTitle\", \"startYear\") \\\n",
    "    .filter((genres.primaryTitle == \"Dead Poets Society\") & (genres.titleType == \"movie\"))\n",
    "tmp.show()\n",
    "tmp.count()"
   ]
  },
  {
   "cell_type": "markdown",
   "id": "de96e326",
   "metadata": {},
   "source": [
    "# Find all the movies featuring \"Scarlett Johansson\" and \"Chris Evans\" (2 points)"
   ]
  },
  {
   "cell_type": "code",
   "execution_count": 17,
   "id": "agricultural-mustang",
   "metadata": {},
   "outputs": [
    {
     "name": "stdout",
     "output_type": "stream",
     "text": [
      "+---------+------------------+---------+---------+--------------------+--------------------+\n",
      "|   nconst|       primaryName|birthYear|deathYear|   primaryProfession|      knownForTitles|\n",
      "+---------+------------------+---------+---------+--------------------+--------------------+\n",
      "|nm0424060|Scarlett Johansson|     1984|       \\N|actress,soundtrac...|tt1798709,tt03352...|\n",
      "+---------+------------------+---------+---------+--------------------+--------------------+\n",
      "\n"
     ]
    },
    {
     "data": {
      "text/plain": [
       "1"
      ]
     },
     "execution_count": 17,
     "metadata": {},
     "output_type": "execute_result"
    }
   ],
   "source": [
    "xxx = actors.filter((actors.primaryName == \"Scarlett Johansson\"))\n",
    "yyy= actors.filter(actors.primaryName == \"Chris Evans\")\n",
    "xxx.show()\n",
    "xxx.count()\n",
    " \n",
    "#find Scarlett and Chris from dataset"
   ]
  },
  {
   "cell_type": "code",
   "execution_count": 18,
   "id": "third-specialist",
   "metadata": {},
   "outputs": [],
   "source": [
    "#ttt = actors.filter((actors.primaryName == \"Scarlett Johansson\" & actors.birthYear == \"1984\") | (actors.primaryName == \"Chris Evans\" & actors.birthYear == \"1981\"))\n",
    "#ttt.show()\n",
    "#ttt.count()"
   ]
  },
  {
   "cell_type": "code",
   "execution_count": 19,
   "id": "important-basket",
   "metadata": {},
   "outputs": [
    {
     "name": "stdout",
     "output_type": "stream",
     "text": [
      "+----------+-----------+---------+---------+--------------------+--------------------+\n",
      "|    nconst|primaryName|birthYear|deathYear|   primaryProfession|      knownForTitles|\n",
      "+----------+-----------+---------+---------+--------------------+--------------------+\n",
      "| nm0262632|Chris Evans|     1966|       \\N|producer,actor,wr...|tt0243714,tt01087...|\n",
      "| nm0262633|Chris Evans|       \\N|       \\N|               actor|           tt0100774|\n",
      "| nm0262634|Chris Evans|       \\N|       \\N|  make_up_department| tt0085852,tt0088553|\n",
      "| nm0262635|Chris Evans|     1981|       \\N|actor,producer,so...|tt1843866,tt04583...|\n",
      "|nm10022496|Chris Evans|       \\N|       \\N|     cinematographer|           tt1582471|\n",
      "|nm10048300|Chris Evans|       \\N|       \\N|                null|           tt1631912|\n",
      "| nm1012859|Chris Evans|       \\N|       \\N|  production_manager|tt0073447,tt72255...|\n",
      "|nm10176455|Chris Evans|       \\N|       \\N|                null|           tt8064252|\n",
      "|nm10201661|Chris Evans|       \\N|       \\N|       miscellaneous|           tt4219276|\n",
      "|nm10378643|Chris Evans|       \\N|       \\N|            producer|                  \\N|\n",
      "|nm10389713|Chris Evans|       \\N|       \\N|                null|                  \\N|\n",
      "|nm10468678|Chris Evans|       \\N|       \\N|              editor|                  \\N|\n",
      "|nm10549721|Chris Evans|       \\N|       \\N|                null|                  \\N|\n",
      "|nm10589938|Chris Evans|       \\N|       \\N|               actor|                  \\N|\n",
      "|nm10687629|Chris Evans|       \\N|       \\N|   script_department|           tt9646844|\n",
      "|nm11084638|Chris Evans|       \\N|       \\N|            producer|                  \\N|\n",
      "| nm1338064|Chris Evans|       \\N|       \\N|             actress|           tt0359992|\n",
      "| nm1374310|Chris Evans|       \\N|       \\N|     special_effects| tt0110213,tt0112602|\n",
      "| nm1521134|Chris Evans|     1970|       \\N|               actor|tt0449176,tt08079...|\n",
      "| nm1648593|Chris Evans|       \\N|       \\N|      art_department| tt0117582,tt0114442|\n",
      "+----------+-----------+---------+---------+--------------------+--------------------+\n",
      "only showing top 20 rows\n",
      "\n"
     ]
    },
    {
     "data": {
      "text/plain": [
       "100"
      ]
     },
     "execution_count": 19,
     "metadata": {},
     "output_type": "execute_result"
    }
   ],
   "source": [
    "yyy.show()\n",
    "yyy.count()"
   ]
  },
  {
   "cell_type": "code",
   "execution_count": 20,
   "id": "curious-thompson",
   "metadata": {},
   "outputs": [
    {
     "name": "stdout",
     "output_type": "stream",
     "text": [
      "+---------+---------+------------------+\n",
      "|   tconst|   nconst|       primaryName|\n",
      "+---------+---------+------------------+\n",
      "|tt0116985|nm0424060|Scarlett Johansson|\n",
      "|tt0162346|nm0424060|Scarlett Johansson|\n",
      "|tt0165396|nm0424060|Scarlett Johansson|\n",
      "|tt0221799|nm0424060|Scarlett Johansson|\n",
      "|tt0271367|nm0424060|Scarlett Johansson|\n",
      "|tt0314498|nm0424060|Scarlett Johansson|\n",
      "|tt0335119|nm0424060|Scarlett Johansson|\n",
      "|tt0335266|nm0424060|Scarlett Johansson|\n",
      "|tt0369672|nm0424060|Scarlett Johansson|\n",
      "|tt0373121|nm0424060|Scarlett Johansson|\n",
      "+---------+---------+------------------+\n",
      "only showing top 10 rows\n",
      "\n"
     ]
    },
    {
     "data": {
      "text/plain": [
       "221"
      ]
     },
     "execution_count": 20,
     "metadata": {},
     "output_type": "execute_result"
    }
   ],
   "source": [
    "#find movies that has Scarlett Johansson\n",
    "movie_info = movie_actors.select(\"tconst\", \"nconst\")\n",
    "scarlett_info = xxx.select(\"nconst\", \"primaryName\")\n",
    "movie_with_scarlett = movie_info.join(scarlett_info, movie_info.nconst == scarlett_info.nconst, \"inner\").drop(movie_info.nconst)\n",
    "movie_with_scarlett.show(10)\n",
    "movie_with_scarlett.count()"
   ]
  },
  {
   "cell_type": "code",
   "execution_count": 24,
   "id": "french-addiction",
   "metadata": {},
   "outputs": [
    {
     "name": "stdout",
     "output_type": "stream",
     "text": [
      "+----------+---------+-----------+\n",
      "|    tconst|   nconst|primaryName|\n",
      "+----------+---------+-----------+\n",
      "| tt2779964|nm5578926|Chris Evans|\n",
      "|tt10234076|nm2873413|Chris Evans|\n",
      "|tt10234104|nm2873413|Chris Evans|\n",
      "|tt10234130|nm2873413|Chris Evans|\n",
      "|tt10234176|nm2873413|Chris Evans|\n",
      "|tt10234220|nm2873413|Chris Evans|\n",
      "| tt2644722|nm2873413|Chris Evans|\n",
      "| tt3835116|nm2873413|Chris Evans|\n",
      "| tt3835124|nm2873413|Chris Evans|\n",
      "| tt5895138|nm2873413|Chris Evans|\n",
      "+----------+---------+-----------+\n",
      "only showing top 10 rows\n",
      "\n"
     ]
    },
    {
     "data": {
      "text/plain": [
       "538"
      ]
     },
     "execution_count": 24,
     "metadata": {},
     "output_type": "execute_result"
    }
   ],
   "source": [
    "#find movies that has Chris Evans\n",
    "movie_info = movie_actors.select(\"tconst\", \"nconst\")\n",
    "chris_info = yyy.select(\"nconst\", \"primaryName\")\n",
    "movie_with_chris = movie_info.join(chris_info, movie_info.nconst == chris_info.nconst, \"inner\").drop(movie_info.nconst)\n",
    "movie_with_chris.show(10)\n",
    "movie_with_chris.count()"
   ]
  },
  {
   "cell_type": "code",
   "execution_count": 25,
   "id": "sixth-jaguar",
   "metadata": {
    "scrolled": true
   },
   "outputs": [],
   "source": [
    "movie_with_both = movie_with_chris.join(movie_with_scarlett, movie_with_chris.tconst == movie_with_scarlett.tconst, \"inner\")\\\n",
    ".drop(movie_with_chris.tconst)"
   ]
  },
  {
   "cell_type": "code",
   "execution_count": 26,
   "id": "guided-munich",
   "metadata": {},
   "outputs": [
    {
     "name": "stdout",
     "output_type": "stream",
     "text": [
      "+---------+-----------+----------+---------+------------------+\n",
      "|   nconst|primaryName|    tconst|   nconst|       primaryName|\n",
      "+---------+-----------+----------+---------+------------------+\n",
      "|nm0262635|Chris Evans| tt4380568|nm0424060|Scarlett Johansson|\n",
      "|nm0262635|Chris Evans| tt3498820|nm0424060|Scarlett Johansson|\n",
      "|nm0262635|Chris Evans| tt5484160|nm0424060|Scarlett Johansson|\n",
      "|nm0262635|Chris Evans| tt0314498|nm0424060|Scarlett Johansson|\n",
      "|nm0262635|Chris Evans| tt5226204|nm0424060|Scarlett Johansson|\n",
      "|nm0262635|Chris Evans| tt5180254|nm0424060|Scarlett Johansson|\n",
      "|nm0262635|Chris Evans| tt1843866|nm0424060|Scarlett Johansson|\n",
      "|nm0262635|Chris Evans|tt10075836|nm0424060|Scarlett Johansson|\n",
      "|nm0262635|Chris Evans| tt5181714|nm0424060|Scarlett Johansson|\n",
      "|nm0262635|Chris Evans|tt10014292|nm0424060|Scarlett Johansson|\n",
      "|nm0262635|Chris Evans| tt5505734|nm0424060|Scarlett Johansson|\n",
      "|nm0262635|Chris Evans| tt5576506|nm0424060|Scarlett Johansson|\n",
      "|nm0262635|Chris Evans| tt5180410|nm0424060|Scarlett Johansson|\n",
      "|nm0262635|Chris Evans|tt10940042|nm0424060|Scarlett Johansson|\n",
      "|nm0262635|Chris Evans| tt0848228|nm0424060|Scarlett Johansson|\n",
      "|nm0262635|Chris Evans|tt10199160|nm0424060|Scarlett Johansson|\n",
      "|nm0262635|Chris Evans| tt4660160|nm0424060|Scarlett Johansson|\n",
      "|nm0262635|Chris Evans| tt4613438|nm0424060|Scarlett Johansson|\n",
      "+---------+-----------+----------+---------+------------------+\n",
      "\n"
     ]
    },
    {
     "data": {
      "text/plain": [
       "18"
      ]
     },
     "execution_count": 26,
     "metadata": {},
     "output_type": "execute_result"
    }
   ],
   "source": [
    "movie_with_both.show()\n",
    "movie_with_both.count()\n",
    "#wait why so many? some of them are not movies? (through professor's hint)"
   ]
  },
  {
   "cell_type": "code",
   "execution_count": 27,
   "id": "moral-tablet",
   "metadata": {},
   "outputs": [
    {
     "name": "stdout",
     "output_type": "stream",
     "text": [
      "+---------+--------------------+---------+\n",
      "|   tconst|        primaryTitle|titleType|\n",
      "+---------+--------------------+---------+\n",
      "|tt0000009|          Miss Jerry|    movie|\n",
      "|tt0000147|The Corbett-Fitzs...|    movie|\n",
      "|tt0000335|Soldiers of the C...|    movie|\n",
      "|tt0000502|            Bohemios|    movie|\n",
      "|tt0000574|The Story of the ...|    movie|\n",
      "|tt0000615|  Robbery Under Arms|    movie|\n",
      "|tt0000630|              Hamlet|    movie|\n",
      "|tt0000675|         Don Quijote|    movie|\n",
      "|tt0000676|Don Álvaro o la f...|    movie|\n",
      "|tt0000679|The Fairylogue an...|    movie|\n",
      "|tt0000739|El pastorcito de ...|    movie|\n",
      "|tt0000793|       Andreas Hofer|    movie|\n",
      "|tt0000812|   El blocao Velarde|    movie|\n",
      "|tt0000814|La bocana de Mar ...|    movie|\n",
      "|tt0000838|  A Cultura do Cacau|    movie|\n",
      "|tt0000842|De Garraf a Barce...|    movie|\n",
      "|tt0000846|Un día en Xochimilco|    movie|\n",
      "|tt0000850|    Los dos hermanos|    movie|\n",
      "|tt0000859|Fabricación del c...|    movie|\n",
      "|tt0000862|          Faldgruben|    movie|\n",
      "+---------+--------------------+---------+\n",
      "only showing top 20 rows\n",
      "\n"
     ]
    },
    {
     "data": {
      "text/plain": [
       "536034"
      ]
     },
     "execution_count": 27,
     "metadata": {},
     "output_type": "execute_result"
    }
   ],
   "source": [
    "genres1 = genres.select(\"tconst\",\"primaryTitle\",\"titleType\") \\\n",
    ".filter(genres.titleType == \"movie\")\n",
    "genres1.show()\n",
    "genres1.count()"
   ]
  },
  {
   "cell_type": "code",
   "execution_count": 28,
   "id": "pleasant-dancing",
   "metadata": {},
   "outputs": [
    {
     "name": "stdout",
     "output_type": "stream",
     "text": [
      "+--------------------+---------+---------+-----------+----------+---------+------------------+\n",
      "|        primaryTitle|titleType|   nconst|primaryName|    tconst|   nconst|       primaryName|\n",
      "+--------------------+---------+---------+-----------+----------+---------+------------------+\n",
      "|Captain America: ...|    movie|nm0262635|Chris Evans| tt3498820|nm0424060|Scarlett Johansson|\n",
      "|   The Perfect Score|    movie|nm0262635|Chris Evans| tt0314498|nm0424060|Scarlett Johansson|\n",
      "|Captain America: ...|    movie|nm0262635|Chris Evans| tt1843866|nm0424060|Scarlett Johansson|\n",
      "|The Avengers Asse...|    movie|nm0262635|Chris Evans|tt10075836|nm0424060|Scarlett Johansson|\n",
      "|        The Avengers|    movie|nm0262635|Chris Evans| tt0848228|nm0424060|Scarlett Johansson|\n",
      "+--------------------+---------+---------+-----------+----------+---------+------------------+\n",
      "\n"
     ]
    }
   ],
   "source": [
    "movie_with_name = genres1.join(movie_with_both, genres1.tconst == movie_with_both.tconst, \"inner\").drop(genres1.tconst)\n",
    "movie_with_name.show()"
   ]
  },
  {
   "cell_type": "code",
   "execution_count": 29,
   "id": "viral-vinyl",
   "metadata": {},
   "outputs": [
    {
     "name": "stdout",
     "output_type": "stream",
     "text": [
      "+--------------------+\n",
      "|        primaryTitle|\n",
      "+--------------------+\n",
      "|Captain America: ...|\n",
      "|   The Perfect Score|\n",
      "|Captain America: ...|\n",
      "|The Avengers Asse...|\n",
      "|        The Avengers|\n",
      "+--------------------+\n",
      "\n"
     ]
    }
   ],
   "source": [
    "Answer = movie_with_name.select(\"primaryTitle\")\n",
    "Answer.show()"
   ]
  },
  {
   "cell_type": "code",
   "execution_count": 64,
   "id": "9a19362c",
   "metadata": {
    "scrolled": true
   },
   "outputs": [
    {
     "data": {
      "application/vnd.jupyter.widget-view+json": {
       "model_id": "bc91d6debe2c4caca335eac38edb3044",
       "version_major": 2,
       "version_minor": 0
      },
      "text/plain": [
       "VBox()"
      ]
     },
     "metadata": {},
     "output_type": "display_data"
    },
    {
     "data": {
      "application/vnd.jupyter.widget-view+json": {
       "model_id": "",
       "version_major": 2,
       "version_minor": 0
      },
      "text/plain": [
       "FloatProgress(value=0.0, bar_style='info', description='Progress:', layout=Layout(height='25px', width='50%'),…"
      ]
     },
     "metadata": {},
     "output_type": "display_data"
    },
    {
     "name": "stdout",
     "output_type": "stream",
     "text": [
      "+------------+\n",
      "|primaryTitle|\n",
      "+------------+\n",
      "|The Avengers|\n",
      "+------------+"
     ]
    }
   ],
   "source": [
    "#result"
   ]
  },
  {
   "cell_type": "markdown",
   "id": "e2b33e4c",
   "metadata": {},
   "source": [
    "# Find all the movies featuring \"Brad Pitt\" after 2010 (2 points)"
   ]
  },
  {
   "cell_type": "code",
   "execution_count": 30,
   "id": "seventh-breach",
   "metadata": {},
   "outputs": [
    {
     "name": "stdout",
     "output_type": "stream",
     "text": [
      "+---------+-----------+---------+---------+--------------------+--------------------+\n",
      "|   nconst|primaryName|birthYear|deathYear|   primaryProfession|      knownForTitles|\n",
      "+---------+-----------+---------+---------+--------------------+--------------------+\n",
      "|nm0000093|  Brad Pitt|     1963|       \\N|actor,producer,so...|tt0356910,tt08167...|\n",
      "+---------+-----------+---------+---------+--------------------+--------------------+\n",
      "\n"
     ]
    }
   ],
   "source": [
    "bbb = actors.filter((actors.primaryName == \"Brad Pitt\"))\n",
    "bbb.show()"
   ]
  },
  {
   "cell_type": "code",
   "execution_count": 82,
   "id": "elder-wrestling",
   "metadata": {},
   "outputs": [
    {
     "data": {
      "text/plain": [
       "<filter at 0x28478745b20>"
      ]
     },
     "execution_count": 82,
     "metadata": {},
     "output_type": "execute_result"
    }
   ],
   "source": [
    "#qqq= filter(lambda actors: (actors.primaryName == \"Scarlett Johansson\" and actors.birthYear == \"1984\") or ( actors.primaryName == \"Chris Evans\" or actors.birthYear == \"1981\"),actors)\n",
    "#qqq"
   ]
  },
  {
   "cell_type": "code",
   "execution_count": null,
   "id": "pregnant-confusion",
   "metadata": {},
   "outputs": [],
   "source": []
  },
  {
   "cell_type": "code",
   "execution_count": 31,
   "id": "surface-april",
   "metadata": {},
   "outputs": [
    {
     "name": "stdout",
     "output_type": "stream",
     "text": [
      "+-----------+---------+---------+--------------------+--------------------+---------+--------+---------+--------+---+--------------------+\n",
      "|primaryName|birthYear|deathYear|   primaryProfession|      knownForTitles|   tconst|ordering|   nconst|category|job|          characters|\n",
      "+-----------+---------+---------+--------------------+--------------------+---------+--------+---------+--------+---+--------------------+\n",
      "|  Brad Pitt|     1963|       \\N|actor,producer,so...|tt0356910,tt08167...|tt0097136|       3|nm0000093|   actor| \\N|  [\"Dwight Ingalls\"]|\n",
      "|  Brad Pitt|     1963|       \\N|actor,producer,so...|tt0356910,tt08167...|tt0098804|       2|nm0000093|   actor| \\N|  [\"Walker Lovejoy\"]|\n",
      "|  Brad Pitt|     1963|       \\N|actor,producer,so...|tt0356910,tt08167...|tt0100797|       3|nm0000093|   actor| \\N|    [\"Billy Canton\"]|\n",
      "|  Brad Pitt|     1963|       \\N|actor,producer,so...|tt0356910,tt08167...|tt0101268|       2|nm0000093|   actor| \\N|     [\"Joe Maloney\"]|\n",
      "|  Brad Pitt|     1963|       \\N|actor,producer,so...|tt0356910,tt08167...|tt0104007|       4|nm0000093|   actor| \\N|             [\"Cox\"]|\n",
      "|  Brad Pitt|     1963|       \\N|actor,producer,so...|tt0356910,tt08167...|tt0104009|       4|nm0000093|   actor| \\N|    [\"Frank Harris\"]|\n",
      "|  Brad Pitt|     1963|       \\N|actor,producer,so...|tt0356910,tt08167...|tt0104567|       1|nm0000093|   actor| \\N|    [\"Johnny Suede\"]|\n",
      "|  Brad Pitt|     1963|       \\N|actor,producer,so...|tt0356910,tt08167...|tt0105265|       2|nm0000093|   actor| \\N|    [\"Paul Maclean\"]|\n",
      "|  Brad Pitt|     1963|       \\N|actor,producer,so...|tt0356910,tt08167...|tt0107302|       1|nm0000093|   actor| \\N|    [\"Early Grayce\"]|\n",
      "|  Brad Pitt|     1963|       \\N|actor,producer,so...|tt0356910,tt08167...|tt0109783|       4|nm0000093|   actor| \\N|  [\"Elliott Fowler\"]|\n",
      "|  Brad Pitt|     1963|       \\N|actor,producer,so...|tt0356910,tt08167...|tt0110148|       1|nm0000093|   actor| \\N|           [\"Louis\"]|\n",
      "|  Brad Pitt|     1963|       \\N|actor,producer,so...|tt0356910,tt08167...|tt0110322|       1|nm0000093|   actor| \\N|         [\"Tristan\"]|\n",
      "|  Brad Pitt|     1963|       \\N|actor,producer,so...|tt0356910,tt08167...|tt0114369|       2|nm0000093|   actor| \\N|           [\"Mills\"]|\n",
      "|  Brad Pitt|     1963|       \\N|actor,producer,so...|tt0356910,tt08167...|tt0114746|       3|nm0000093|   actor| \\N|  [\"Jeffrey Goines\"]|\n",
      "|  Brad Pitt|     1963|       \\N|actor,producer,so...|tt0356910,tt08167...|tt0117665|       3|nm0000093|   actor| \\N|         [\"Michael\"]|\n",
      "|  Brad Pitt|     1963|       \\N|actor,producer,so...|tt0356910,tt08167...|tt0118930|       2|nm0000093|   actor| \\N|            [\"Rick\"]|\n",
      "|  Brad Pitt|     1963|       \\N|actor,producer,so...|tt0356910,tt08167...|tt0118972|       2|nm0000093|   actor| \\N|    [\"Rory Devaney\"]|\n",
      "|  Brad Pitt|     1963|       \\N|actor,producer,so...|tt0356910,tt08167...|tt0119643|       1|nm0000093|   actor| \\N|[\"Joe Black\",\"You...|\n",
      "|  Brad Pitt|     1963|       \\N|actor,producer,so...|tt0356910,tt08167...|tt0120102|       1|nm0000093|   actor| \\N| [\"Heinrich Harrer\"]|\n",
      "|  Brad Pitt|     1963|       \\N|actor,producer,so...|tt0356910,tt08167...|tt0137523|       1|nm0000093|   actor| \\N|    [\"Tyler Durden\"]|\n",
      "+-----------+---------+---------+--------------------+--------------------+---------+--------+---------+--------+---+--------------------+\n",
      "only showing top 20 rows\n",
      "\n"
     ]
    },
    {
     "data": {
      "text/plain": [
       "302"
      ]
     },
     "execution_count": 31,
     "metadata": {},
     "output_type": "execute_result"
    }
   ],
   "source": [
    "brad_join = bbb.join(movie_actors, bbb.nconst == movie_actors.nconst, \"inner\").drop(bbb.nconst)\n",
    "brad_join.show()\n",
    "brad_join.count()"
   ]
  },
  {
   "cell_type": "code",
   "execution_count": 32,
   "id": "acquired-yorkshire",
   "metadata": {},
   "outputs": [
    {
     "name": "stdout",
     "output_type": "stream",
     "text": [
      "+-----------+---------+\n",
      "|primaryName|   tconst|\n",
      "+-----------+---------+\n",
      "|  Brad Pitt|tt0097136|\n",
      "|  Brad Pitt|tt0098804|\n",
      "|  Brad Pitt|tt0100797|\n",
      "|  Brad Pitt|tt0101268|\n",
      "|  Brad Pitt|tt0104007|\n",
      "|  Brad Pitt|tt0104009|\n",
      "|  Brad Pitt|tt0104567|\n",
      "|  Brad Pitt|tt0105265|\n",
      "|  Brad Pitt|tt0107302|\n",
      "|  Brad Pitt|tt0109783|\n",
      "|  Brad Pitt|tt0110148|\n",
      "|  Brad Pitt|tt0110322|\n",
      "|  Brad Pitt|tt0114369|\n",
      "|  Brad Pitt|tt0114746|\n",
      "|  Brad Pitt|tt0117665|\n",
      "|  Brad Pitt|tt0118930|\n",
      "|  Brad Pitt|tt0118972|\n",
      "|  Brad Pitt|tt0119643|\n",
      "|  Brad Pitt|tt0120102|\n",
      "|  Brad Pitt|tt0137523|\n",
      "+-----------+---------+\n",
      "only showing top 20 rows\n",
      "\n"
     ]
    },
    {
     "data": {
      "text/plain": [
       "302"
      ]
     },
     "execution_count": 32,
     "metadata": {},
     "output_type": "execute_result"
    }
   ],
   "source": [
    "brad_join2 = brad_join.select(\"primaryName\", \"tconst\")\n",
    "brad_join2.show()\n",
    "brad_join2.count()"
   ]
  },
  {
   "cell_type": "code",
   "execution_count": 33,
   "id": "recovered-comparison",
   "metadata": {},
   "outputs": [
    {
     "name": "stdout",
     "output_type": "stream",
     "text": [
      "+---------+--------------------+---------+---------+\n",
      "|   tconst|        primaryTitle|startYear|titleType|\n",
      "+---------+--------------------+---------+---------+\n",
      "|tt0000009|          Miss Jerry|     1894|    movie|\n",
      "|tt0000147|The Corbett-Fitzs...|     1897|    movie|\n",
      "|tt0000335|Soldiers of the C...|     1900|    movie|\n",
      "|tt0000502|            Bohemios|     1905|    movie|\n",
      "|tt0000574|The Story of the ...|     1906|    movie|\n",
      "|tt0000615|  Robbery Under Arms|     1907|    movie|\n",
      "|tt0000630|              Hamlet|     1908|    movie|\n",
      "|tt0000675|         Don Quijote|     1908|    movie|\n",
      "|tt0000676|Don Álvaro o la f...|     1908|    movie|\n",
      "|tt0000679|The Fairylogue an...|     1908|    movie|\n",
      "|tt0000739|El pastorcito de ...|     1908|    movie|\n",
      "|tt0000793|       Andreas Hofer|     1909|    movie|\n",
      "|tt0000812|   El blocao Velarde|     1909|    movie|\n",
      "|tt0000814|La bocana de Mar ...|     1909|    movie|\n",
      "|tt0000838|  A Cultura do Cacau|     1909|    movie|\n",
      "|tt0000842|De Garraf a Barce...|     1909|    movie|\n",
      "|tt0000846|Un día en Xochimilco|     1909|    movie|\n",
      "|tt0000850|    Los dos hermanos|     1909|    movie|\n",
      "|tt0000859|Fabricación del c...|     1909|    movie|\n",
      "|tt0000862|          Faldgruben|     1909|    movie|\n",
      "+---------+--------------------+---------+---------+\n",
      "only showing top 20 rows\n",
      "\n"
     ]
    }
   ],
   "source": [
    "genres_2 = genres.select(\"tconst\",\"primaryTitle\",\"startYear\",\"titleType\").filter(genres.titleType == \"movie\")\n",
    "genres_2.show()"
   ]
  },
  {
   "cell_type": "code",
   "execution_count": 34,
   "id": "impressed-brain",
   "metadata": {},
   "outputs": [
    {
     "name": "stdout",
     "output_type": "stream",
     "text": [
      "+--------------------+---------+---------+-----------+---------+\n",
      "|        primaryTitle|startYear|titleType|primaryName|   tconst|\n",
      "+--------------------+---------+---------+-----------+---------+\n",
      "|              Blonde|       \\N|    movie|  Brad Pitt|tt1655389|\n",
      "|Untitled Jerry Le...|       \\N|    movie|  Brad Pitt|tt1726812|\n",
      "|           The Jaunt|       \\N|    movie|  Brad Pitt|tt4522740|\n",
      "|       The Operators|       \\N|    movie|  Brad Pitt|tt2388779|\n",
      "|      Ocean's Eleven|     2001|    movie|  Brad Pitt|tt0240772|\n",
      "|           Moneyball|     2011|    movie|  Brad Pitt|tt1210166|\n",
      "|              Snatch|     2000|    movie|  Brad Pitt|tt0208092|\n",
      "|       Cutting Class|     1989|    movie|  Brad Pitt|tt0097136|\n",
      "|           Illuminae|       \\N|    movie|  Brad Pitt|tt5216096|\n",
      "|  Burn After Reading|     2008|    movie|  Brad Pitt|tt0887883|\n",
      "|            Megamind|     2010|    movie|  Brad Pitt|tt1001526|\n",
      "|               Babel|     2006|    movie|  Brad Pitt|tt0449467|\n",
      "|               Alpha|       \\N|    movie|  Brad Pitt|tt4216790|\n",
      "|    Mr. & Mrs. Smith|     2005|    movie|  Brad Pitt|tt0356910|\n",
      "|    12 Years a Slave|     2013|    movie|  Brad Pitt|tt2024544|\n",
      "|        The Salesman|       \\N|    movie|  Brad Pitt|tt2395102|\n",
      "|  He Wanted the Moon|       \\N|    movie|  Brad Pitt|tt5485494|\n",
      "|          By the Sea|     2015|    movie|  Brad Pitt|tt3707106|\n",
      "|Important Artifac...|       \\N|    movie|  Brad Pitt|tt1400518|\n",
      "|The Dark Side of ...|     1988|    movie|  Brad Pitt|tt0118930|\n",
      "+--------------------+---------+---------+-----------+---------+\n",
      "only showing top 20 rows\n",
      "\n"
     ]
    },
    {
     "data": {
      "text/plain": [
       "88"
      ]
     },
     "execution_count": 34,
     "metadata": {},
     "output_type": "execute_result"
    }
   ],
   "source": [
    "brad_title = genres_2.join(brad_join2, genres_2.tconst == brad_join2.tconst, \"inner\").drop(genres_2.tconst)\n",
    "brad_title.show()\n",
    "brad_title.count()"
   ]
  },
  {
   "cell_type": "code",
   "execution_count": 35,
   "id": "delayed-division",
   "metadata": {},
   "outputs": [
    {
     "name": "stdout",
     "output_type": "stream",
     "text": [
      "root\n",
      " |-- primaryTitle: string (nullable = true)\n",
      " |-- startYear: string (nullable = true)\n",
      " |-- titleType: string (nullable = true)\n",
      " |-- primaryName: string (nullable = true)\n",
      " |-- tconst: string (nullable = true)\n",
      "\n",
      "root\n",
      " |-- primaryTitle: string (nullable = true)\n",
      " |-- startYear: integer (nullable = true)\n",
      " |-- titleType: string (nullable = true)\n",
      " |-- primaryName: string (nullable = true)\n",
      " |-- tconst: string (nullable = true)\n",
      "\n",
      "+--------------------+---------+---------+-----------+----------+\n",
      "|        primaryTitle|startYear|titleType|primaryName|    tconst|\n",
      "+--------------------+---------+---------+-----------+----------+\n",
      "|             Babylon|     2021|    movie|  Brad Pitt|tt10640346|\n",
      "|        Irresistible|     2020|    movie|  Brad Pitt| tt9076562|\n",
      "|       Kajillionaire|     2020|    movie|  Brad Pitt| tt8143990|\n",
      "|            The King|     2019|    movie|  Brad Pitt| tt7984766|\n",
      "|            Ad Astra|     2019|    movie|  Brad Pitt| tt2935510|\n",
      "|Once Upon a Time ...|     2019|    movie|  Brad Pitt| tt7131622|\n",
      "|                Vice|     2018|    movie|  Brad Pitt| tt6266538|\n",
      "|         War Machine|     2017|    movie|  Brad Pitt| tt4758646|\n",
      "|              Allied|     2016|    movie|  Brad Pitt| tt3640424|\n",
      "|Voyage of Time: L...|     2016|    movie|  Brad Pitt| tt1945228|\n",
      "|       The Big Short|     2015|    movie|  Brad Pitt| tt1596363|\n",
      "|          By the Sea|     2015|    movie|  Brad Pitt| tt3707106|\n",
      "|    Hitting the Apex|     2015|    movie|  Brad Pitt| tt4973112|\n",
      "|                Fury|     2014|    movie|  Brad Pitt| tt2713180|\n",
      "|          Kick-Ass 2|     2013|    movie|  Brad Pitt| tt1650554|\n",
      "|         World War Z|     2013|    movie|  Brad Pitt| tt0816711|\n",
      "|    12 Years a Slave|     2013|    movie|  Brad Pitt| tt2024544|\n",
      "| Killing Them Softly|     2012|    movie|  Brad Pitt| tt1764234|\n",
      "|           Moneyball|     2011|    movie|  Brad Pitt| tt1210166|\n",
      "|    The Tree of Life|     2011|    movie|  Brad Pitt| tt0478304|\n",
      "+--------------------+---------+---------+-----------+----------+\n",
      "only showing top 20 rows\n",
      "\n"
     ]
    }
   ],
   "source": [
    "#convert Year to type `int`\n",
    "from pyspark.sql.functions import col\n",
    "\n",
    "brad_title.printSchema()\n",
    "brad_title2 = brad_title.withColumn(\"startYear\", col(\"startYear\").cast(\"Integer\")).orderBy('startYear',ascending=False)\n",
    "\n",
    "brad_title2.printSchema()\n",
    "brad_title2.show()\n",
    "\n",
    "\n"
   ]
  },
  {
   "cell_type": "code",
   "execution_count": 39,
   "id": "intensive-respect",
   "metadata": {},
   "outputs": [
    {
     "name": "stdout",
     "output_type": "stream",
     "text": [
      "+--------------------+---------+---------+-----------+----------+\n",
      "|        primaryTitle|startYear|titleType|primaryName|    tconst|\n",
      "+--------------------+---------+---------+-----------+----------+\n",
      "|    The Tree of Life|     2011|    movie|  Brad Pitt| tt0478304|\n",
      "|           Moneyball|     2011|    movie|  Brad Pitt| tt1210166|\n",
      "| Killing Them Softly|     2012|    movie|  Brad Pitt| tt1764234|\n",
      "|    12 Years a Slave|     2013|    movie|  Brad Pitt| tt2024544|\n",
      "|          Kick-Ass 2|     2013|    movie|  Brad Pitt| tt1650554|\n",
      "|         World War Z|     2013|    movie|  Brad Pitt| tt0816711|\n",
      "|                Fury|     2014|    movie|  Brad Pitt| tt2713180|\n",
      "|    Hitting the Apex|     2015|    movie|  Brad Pitt| tt4973112|\n",
      "|       The Big Short|     2015|    movie|  Brad Pitt| tt1596363|\n",
      "|          By the Sea|     2015|    movie|  Brad Pitt| tt3707106|\n",
      "|Voyage of Time: L...|     2016|    movie|  Brad Pitt| tt1945228|\n",
      "|              Allied|     2016|    movie|  Brad Pitt| tt3640424|\n",
      "|         War Machine|     2017|    movie|  Brad Pitt| tt4758646|\n",
      "|                Vice|     2018|    movie|  Brad Pitt| tt6266538|\n",
      "|            The King|     2019|    movie|  Brad Pitt| tt7984766|\n",
      "|Once Upon a Time ...|     2019|    movie|  Brad Pitt| tt7131622|\n",
      "|            Ad Astra|     2019|    movie|  Brad Pitt| tt2935510|\n",
      "|        Irresistible|     2020|    movie|  Brad Pitt| tt9076562|\n",
      "|       Kajillionaire|     2020|    movie|  Brad Pitt| tt8143990|\n",
      "|             Babylon|     2021|    movie|  Brad Pitt|tt10640346|\n",
      "+--------------------+---------+---------+-----------+----------+\n",
      "\n"
     ]
    },
    {
     "data": {
      "text/plain": [
       "20"
      ]
     },
     "execution_count": 39,
     "metadata": {},
     "output_type": "execute_result"
    }
   ],
   "source": [
    "# filter ultil 2010\n",
    "from pyspark.sql.types import (\n",
    "    StructType,\n",
    "    StructField, \n",
    "    StringType, \n",
    "    IntegerType, \n",
    "    ArrayType,\n",
    ")\n",
    "\n",
    "vi = brad_title2.filter(col(\"startYear\") >= 2011).orderBy('startYear',ascending=True)\n",
    "vi.show()\n",
    "vi.count()"
   ]
  },
  {
   "cell_type": "code",
   "execution_count": 69,
   "id": "metallic-halifax",
   "metadata": {},
   "outputs": [
    {
     "name": "stdout",
     "output_type": "stream",
     "text": [
      "+---------+--------+---------+--------+---+--------------------+\n",
      "|   tconst|ordering|   nconst|category|job|          characters|\n",
      "+---------+--------+---------+--------+---+--------------------+\n",
      "|tt0097136|       3|nm0000093|   actor| \\N|  [\"Dwight Ingalls\"]|\n",
      "|tt0098804|       2|nm0000093|   actor| \\N|  [\"Walker Lovejoy\"]|\n",
      "|tt0100797|       3|nm0000093|   actor| \\N|    [\"Billy Canton\"]|\n",
      "|tt0101268|       2|nm0000093|   actor| \\N|     [\"Joe Maloney\"]|\n",
      "|tt0104007|       4|nm0000093|   actor| \\N|             [\"Cox\"]|\n",
      "|tt0104009|       4|nm0000093|   actor| \\N|    [\"Frank Harris\"]|\n",
      "|tt0104567|       1|nm0000093|   actor| \\N|    [\"Johnny Suede\"]|\n",
      "|tt0105265|       2|nm0000093|   actor| \\N|    [\"Paul Maclean\"]|\n",
      "|tt0107302|       1|nm0000093|   actor| \\N|    [\"Early Grayce\"]|\n",
      "|tt0109783|       4|nm0000093|   actor| \\N|  [\"Elliott Fowler\"]|\n",
      "|tt0110148|       1|nm0000093|   actor| \\N|           [\"Louis\"]|\n",
      "|tt0110322|       1|nm0000093|   actor| \\N|         [\"Tristan\"]|\n",
      "|tt0114369|       2|nm0000093|   actor| \\N|           [\"Mills\"]|\n",
      "|tt0114746|       3|nm0000093|   actor| \\N|  [\"Jeffrey Goines\"]|\n",
      "|tt0117665|       3|nm0000093|   actor| \\N|         [\"Michael\"]|\n",
      "|tt0118930|       2|nm0000093|   actor| \\N|            [\"Rick\"]|\n",
      "|tt0118972|       2|nm0000093|   actor| \\N|    [\"Rory Devaney\"]|\n",
      "|tt0119643|       1|nm0000093|   actor| \\N|[\"Joe Black\",\"You...|\n",
      "|tt0120102|       1|nm0000093|   actor| \\N| [\"Heinrich Harrer\"]|\n",
      "|tt0137523|       1|nm0000093|   actor| \\N|    [\"Tyler Durden\"]|\n",
      "+---------+--------+---------+--------+---+--------------------+\n",
      "only showing top 20 rows\n",
      "\n"
     ]
    },
    {
     "data": {
      "text/plain": [
       "302"
      ]
     },
     "execution_count": 69,
     "metadata": {},
     "output_type": "execute_result"
    }
   ],
   "source": [
    "trial = movie_actors.filter(movie_actors.nconst == \"nm0000093\")\n",
    "trial.show()\n",
    "trial.count()"
   ]
  },
  {
   "cell_type": "code",
   "execution_count": 67,
   "id": "4dd56af6",
   "metadata": {},
   "outputs": [
    {
     "data": {
      "application/vnd.jupyter.widget-view+json": {
       "model_id": "97bcb86a5dcd401f953d4b93474136a9",
       "version_major": 2,
       "version_minor": 0
      },
      "text/plain": [
       "VBox()"
      ]
     },
     "metadata": {},
     "output_type": "display_data"
    },
    {
     "data": {
      "application/vnd.jupyter.widget-view+json": {
       "model_id": "",
       "version_major": 2,
       "version_minor": 0
      },
      "text/plain": [
       "FloatProgress(value=0.0, bar_style='info', description='Progress:', layout=Layout(height='25px', width='50%'),…"
      ]
     },
     "metadata": {},
     "output_type": "display_data"
    },
    {
     "name": "stdout",
     "output_type": "stream",
     "text": [
      "+------------+---------+\n",
      "|primaryTitle|startYear|\n",
      "+------------+---------+\n",
      "| World War Z|     2013|\n",
      "|   Moneyball|     2011|\n",
      "+------------+---------+"
     ]
    }
   ],
   "source": [
    "#result"
   ]
  },
  {
   "cell_type": "markdown",
   "id": "f35b72cf",
   "metadata": {},
   "source": [
    "# What is the number of movies in which \"Emma Stone\" acted after 2015? (1 point)"
   ]
  },
  {
   "cell_type": "code",
   "execution_count": 46,
   "id": "conventional-jumping",
   "metadata": {},
   "outputs": [
    {
     "name": "stdout",
     "output_type": "stream",
     "text": [
      "+-----------+---------+---------+--------------------+--------------------+---------+----------+---------+--------------------+---------+\n",
      "|primaryName|birthYear|deathYear|   primaryProfession|      knownForTitles|   nconst|    tconst|titleType|        primaryTitle|startYear|\n",
      "+-----------+---------+---------+--------------------+--------------------+---------+----------+---------+--------------------+---------+\n",
      "| Emma Stone|     1988|       \\N|actress,soundtrac...|tt3783958,tt14540...|nm1297015| tt3783958|    movie|          La La Land|     2016|\n",
      "| Emma Stone|     1988|       \\N|actress,soundtrac...|tt3783958,tt14540...|nm1297015| tt3228774|    movie|             Cruella|     2021|\n",
      "| Emma Stone|     1988|       \\N|actress,soundtrac...|tt3783958,tt14540...|nm1297015| tt2850386|    movie|        The Croods 2|     2020|\n",
      "| Emma Stone|     1988|       \\N|actress,soundtrac...|tt3783958,tt14540...|nm1297015| tt4622512|    movie| Battle of the Sexes|     2017|\n",
      "| Emma Stone|     1988|       \\N|actress,soundtrac...|tt3783958,tt14540...|nm1297015| tt1560220|    movie|Zombieland: Doubl...|     2019|\n",
      "| Emma Stone|     1988|       \\N|actress,soundtrac...|tt3783958,tt14540...|nm1297015| tt5083738|    movie|       The Favourite|     2018|\n",
      "| Emma Stone|     1988|       \\N|actress,soundtrac...|tt3783958,tt14540...|nm1297015|tt10640346|    movie|             Babylon|     2021|\n",
      "+-----------+---------+---------+--------------------+--------------------+---------+----------+---------+--------------------+---------+\n",
      "\n"
     ]
    },
    {
     "data": {
      "text/plain": [
       "7"
      ]
     },
     "execution_count": 46,
     "metadata": {},
     "output_type": "execute_result"
    }
   ],
   "source": [
    "Emma = actors.filter((actors.primaryName == \"Emma Stone\"))\n",
    "\n",
    "genre3 = genres.select(\"tconst\", \"titleType\", \"primaryTitle\", \"startYear\").filter(genres.titleType == \"movie\")\n",
    "genres3 = genre3.withColumn(\"startYear\", col(\"startYear\").cast(\"Integer\")).orderBy('startYear', ascending=False)\n",
    "genres3 = genres3.filter(col(\"startYear\") >= 2016)\n",
    "\n",
    "movie_1 = movie_actors.select(\"tconst\",\"nconst\")\n",
    "Emma_movie = Emma.join(movie_1, Emma.nconst == movie_1.nconst, \"inner\").drop(Emma.nconst)\n",
    "Emma_movie_genres = Emma_movie.join(genres3, Emma_movie.tconst == genres3.tconst, \"inner\").drop(Emma_movie.tconst)\n",
    "\n",
    "Emma_movie_genres.show(10)\n",
    "Emma_movie_genres.count()\n",
    "\n"
   ]
  },
  {
   "cell_type": "code",
   "execution_count": 45,
   "id": "purple-walker",
   "metadata": {},
   "outputs": [
    {
     "name": "stdout",
     "output_type": "stream",
     "text": [
      "+-----------+---------+---------+--------------------+--------------------+---------+---------+\n",
      "|primaryName|birthYear|deathYear|   primaryProfession|      knownForTitles|   tconst|   nconst|\n",
      "+-----------+---------+---------+--------------------+--------------------+---------+---------+\n",
      "| Emma Stone|       \\N|       \\N|            producer|           tt6089542|tt6089542|nm9037791|\n",
      "| Emma Stone|       \\N|       \\N|production_manage...|tt5981304,tt09740...|tt6089542|nm0831859|\n",
      "| Emma Stone|       \\N|       \\N|             actress| tt3231410,tt0108558|tt3231410|nm0831858|\n",
      "| Emma Stone|     1988|       \\N|actress,soundtrac...|tt3783958,tt14540...|tt0408087|nm1297015|\n",
      "| Emma Stone|     1988|       \\N|actress,soundtrac...|tt3783958,tt14540...|tt0437405|nm1297015|\n",
      "| Emma Stone|     1988|       \\N|actress,soundtrac...|tt3783958,tt14540...|tt0444678|nm1297015|\n",
      "| Emma Stone|     1988|       \\N|actress,soundtrac...|tt3783958,tt14540...|tt0481499|nm1297015|\n",
      "| Emma Stone|     1988|       \\N|actress,soundtrac...|tt3783958,tt14540...|tt0770521|nm1297015|\n",
      "| Emma Stone|     1988|       \\N|actress,soundtrac...|tt3783958,tt14540...|tt0821640|nm1297015|\n",
      "| Emma Stone|     1988|       \\N|actress,soundtrac...|tt3783958,tt14540...|tt0852713|nm1297015|\n",
      "+-----------+---------+---------+--------------------+--------------------+---------+---------+\n",
      "only showing top 10 rows\n",
      "\n"
     ]
    }
   ],
   "source": [
    "Emma_movie.show(10)"
   ]
  },
  {
   "cell_type": "code",
   "execution_count": null,
   "id": "literary-pendant",
   "metadata": {},
   "outputs": [],
   "source": []
  },
  {
   "cell_type": "code",
   "execution_count": 66,
   "id": "99142f16",
   "metadata": {},
   "outputs": [
    {
     "data": {
      "application/vnd.jupyter.widget-view+json": {
       "model_id": "47471780c09747fcb92ab6bef4b7b9af",
       "version_major": 2,
       "version_minor": 0
      },
      "text/plain": [
       "VBox()"
      ]
     },
     "metadata": {},
     "output_type": "display_data"
    },
    {
     "data": {
      "application/vnd.jupyter.widget-view+json": {
       "model_id": "",
       "version_major": 2,
       "version_minor": 0
      },
      "text/plain": [
       "FloatProgress(value=0.0, bar_style='info', description='Progress:', layout=Layout(height='25px', width='50%'),…"
      ]
     },
     "metadata": {},
     "output_type": "display_data"
    },
    {
     "name": "stdout",
     "output_type": "stream",
     "text": [
      "6"
     ]
    }
   ],
   "source": [
    "#result"
   ]
  },
  {
   "cell_type": "markdown",
   "id": "4308f7f5",
   "metadata": {},
   "source": [
    "# What is the number of movies acted by \"Chris Evans\" per year? (3 points)\n",
    "\n",
    "Sort the results in a descending order. \n",
    "\n",
    "If there is a null value, remove it. "
   ]
  },
  {
   "cell_type": "code",
   "execution_count": null,
   "id": "colonial-joseph",
   "metadata": {},
   "outputs": [],
   "source": [
    "Evans = actors.filter((actors.primaryName == \"Chris Evans\"))\n",
    "movie_1 = movie_actors.select(\"tconst\",\"nconst\")\n",
    "Evans_movie = Evans.join(movie_1, Evans.nconst == Evans.nconst, \"inner\").drop(Evans.nconst)\n",
    "\n",
    "genre3 = genres.select(\"tconst\", \"titleType\", \"primaryTitle\", \"startYear\").filter(genres.titleType == \"movie\")\n",
    "genres3 = genre3.withColumn(\"startYear\", col(\"startYear\").cast(\"Integer\")).orderBy('startYear', ascending=False)\n",
    "\n",
    "Evans_movie_genre = Evans_movie.join(genres3, Evans_movie.tconst == genres3.tconst, \"inner\").drop(Evans_movie.tconst)\n",
    "\n",
    "Evans_count = Evans_movie_genre.count().orderBy('startYear',ascending=False)\n",
    "Evans_count.show()"
   ]
  },
  {
   "cell_type": "code",
   "execution_count": 63,
   "id": "f7c173cc",
   "metadata": {
    "scrolled": true
   },
   "outputs": [
    {
     "data": {
      "application/vnd.jupyter.widget-view+json": {
       "model_id": "8b53d28688a9461abe5aaba4f9d38169",
       "version_major": 2,
       "version_minor": 0
      },
      "text/plain": [
       "VBox()"
      ]
     },
     "metadata": {},
     "output_type": "display_data"
    },
    {
     "data": {
      "application/vnd.jupyter.widget-view+json": {
       "model_id": "",
       "version_major": 2,
       "version_minor": 0
      },
      "text/plain": [
       "FloatProgress(value=0.0, bar_style='info', description='Progress:', layout=Layout(height='25px', width='50%'),…"
      ]
     },
     "metadata": {},
     "output_type": "display_data"
    },
    {
     "name": "stdout",
     "output_type": "stream",
     "text": [
      "+---------+-----+\n",
      "|startYear|count|\n",
      "+---------+-----+\n",
      "|     2010|    8|\n",
      "|     2011|    8|\n",
      "|     2013|    8|\n",
      "|     2008|    7|\n",
      "|     2017|    6|\n",
      "|     2016|    6|\n",
      "|     2009|    6|\n",
      "|     2012|    6|\n",
      "|     2005|    5|\n",
      "|     2002|    5|\n",
      "|     2014|    5|\n",
      "|     2003|    4|\n",
      "|     2007|    4|\n",
      "|     2006|    4|\n",
      "|     1994|    3|\n",
      "|     2018|    2|\n",
      "|     1976|    2|\n",
      "|     1983|    2|\n",
      "|     2004|    2|\n",
      "|     1995|    2|\n",
      "+---------+-----+\n",
      "only showing top 20 rows"
     ]
    }
   ],
   "source": [
    "#result"
   ]
  },
  {
   "cell_type": "markdown",
   "id": "742c4440",
   "metadata": {},
   "source": [
    "# Find the number of comedy movies whose ratings are greater than or equal to 8.5 and produced after 2018 (2 points)"
   ]
  },
  {
   "cell_type": "code",
   "execution_count": null,
   "id": "moved-wrestling",
   "metadata": {},
   "outputs": [],
   "source": [
    "genre_c = genres.select(\"tconst\", \"primaryTitle\", \"startYear\", \"genres\")\n",
    "\n",
    "genre_c = genre_c.withColumn(\"startYear\", col(\"startYear\").cast(\"Integer\")).orderBy('startYear', ascending=False)\n",
    "\n",
    "from pyspark.sql.functions import explode, split\n",
    "\n",
    "genre_c1 = genre_c.withColumn('genre',explode(split('genres',\",\")))\n",
    "genre_c2 = genre_c1.filter(genre_c1.genres == \"comedy\")\n",
    "genre_c3 = genre_c2.filter(genre_c2.startYear >= 2018)\n",
    "\n",
    "movie_r = movie_ratings.withColumn(\"averageRating\", col(\"averageRating\").cast(\"Float\")).orderBy('averageRating', ascending=False)\n",
    "movie_r1 = movie_r.select(\"tconst\", \"averageRating\").filter(col(\"averageRating\") >= 8.5)\n",
    "\n",
    "\n",
    "Answer_2 = movie_r1.join(genre_c3, movie_r1.tconst == genre_c3.tconst, \"inner\").drop(movie_r1.tconst)\n",
    "Answer_2.count()\n",
    "\n",
    "\n",
    "\n"
   ]
  },
  {
   "cell_type": "code",
   "execution_count": 86,
   "id": "d4fed74c",
   "metadata": {},
   "outputs": [
    {
     "data": {
      "application/vnd.jupyter.widget-view+json": {
       "model_id": "089d325cdc8248be9ec79bcc216b221a",
       "version_major": 2,
       "version_minor": 0
      },
      "text/plain": [
       "VBox()"
      ]
     },
     "metadata": {},
     "output_type": "display_data"
    },
    {
     "data": {
      "application/vnd.jupyter.widget-view+json": {
       "model_id": "",
       "version_major": 2,
       "version_minor": 0
      },
      "text/plain": [
       "FloatProgress(value=0.0, bar_style='info', description='Progress:', layout=Layout(height='25px', width='50%'),…"
      ]
     },
     "metadata": {},
     "output_type": "display_data"
    },
    {
     "name": "stdout",
     "output_type": "stream",
     "text": [
      "1639"
     ]
    }
   ],
   "source": [
    "#result"
   ]
  }
 ],
 "metadata": {
  "kernelspec": {
   "display_name": "Python 3",
   "language": "python",
   "name": "python3"
  },
  "language_info": {
   "codemirror_mode": {
    "name": "ipython",
    "version": 3
   },
   "file_extension": ".py",
   "mimetype": "text/x-python",
   "name": "python",
   "nbconvert_exporter": "python",
   "pygments_lexer": "ipython3",
   "version": "3.8.8"
  }
 },
 "nbformat": 4,
 "nbformat_minor": 5
}
