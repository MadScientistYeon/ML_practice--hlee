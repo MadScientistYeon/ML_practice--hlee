{
 "cells": [
  {
   "cell_type": "markdown",
   "id": "a7c1e02a",
   "metadata": {},
   "source": [
    "## Column adding or updating"
   ]
  },
  {
   "cell_type": "code",
   "execution_count": 2,
   "id": "visible-attribute",
   "metadata": {},
   "outputs": [],
   "source": [
    "import findspark\n",
    "findspark.init()\n",
    "\n",
    "import pyspark\n",
    "from pyspark.sql import SparkSession\n",
    "spark = SparkSession.builder.master(\"local[1]\").appName(\"SparkByExamples.com\").getOrCreate()"
   ]
  },
  {
   "cell_type": "code",
   "execution_count": 3,
   "id": "b5819087",
   "metadata": {},
   "outputs": [],
   "source": [
    "# Create a Spark DataFrame\n",
    "\n",
    "data = [('James','','Smith','1991-04-01','M',3000),\n",
    "  ('Michael','Rose','','2000-05-19','M',4000),\n",
    "  ('Robert','','Williams','1978-09-05','M',4000),\n",
    "  ('Maria','Anne','Jones','1967-12-01','F',2000)\n",
    "]\n",
    "\n",
    "columns = [\"firstname\",\"middlename\",\"lastname\",\"dob\",\"gender\",\"salary\"]\n",
    "df = spark.createDataFrame(data=data, schema = columns)"
   ]
  },
  {
   "cell_type": "code",
   "execution_count": 4,
   "id": "42cea881",
   "metadata": {},
   "outputs": [
    {
     "name": "stdout",
     "output_type": "stream",
     "text": [
      "root\n",
      " |-- firstname: string (nullable = true)\n",
      " |-- middlename: string (nullable = true)\n",
      " |-- lastname: string (nullable = true)\n",
      " |-- dob: string (nullable = true)\n",
      " |-- gender: string (nullable = true)\n",
      " |-- salary: long (nullable = true)\n",
      "\n"
     ]
    }
   ],
   "source": [
    "df.printSchema()"
   ]
  },
  {
   "cell_type": "code",
   "execution_count": 5,
   "id": "ca0bed3d",
   "metadata": {},
   "outputs": [
    {
     "name": "stdout",
     "output_type": "stream",
     "text": [
      "root\n",
      " |-- firstname: string (nullable = true)\n",
      " |-- middlename: string (nullable = true)\n",
      " |-- lastname: string (nullable = true)\n",
      " |-- dob: string (nullable = true)\n",
      " |-- gender: string (nullable = true)\n",
      " |-- salary: integer (nullable = true)\n",
      "\n"
     ]
    }
   ],
   "source": [
    "# let's convert salary to type `int`\n",
    "from pyspark.sql.functions import col\n",
    "#in order to deal with columns you need to import columns\n",
    "#change salary as integer not long data type\n",
    "df2 = df.withColumn(\"salary\", col(\"salary\").cast(\"Integer\"))\n",
    "df2.printSchema()"
   ]
  },
  {
   "cell_type": "code",
   "execution_count": 8,
   "id": "68dc3281",
   "metadata": {},
   "outputs": [
    {
     "name": "stdout",
     "output_type": "stream",
     "text": [
      "+---------+----------+--------+----------+------+------+\n",
      "|firstname|middlename|lastname|       dob|gender|salary|\n",
      "+---------+----------+--------+----------+------+------+\n",
      "|    James|          |   Smith|1991-04-01|     M|  3000|\n",
      "|  Michael|      Rose|        |2000-05-19|     M|  4000|\n",
      "|   Robert|          |Williams|1978-09-05|     M|  4000|\n",
      "|    Maria|      Anne|   Jones|1967-12-01|     F|  2000|\n",
      "+---------+----------+--------+----------+------+------+\n",
      "\n"
     ]
    }
   ],
   "source": [
    "df2.show()"
   ]
  },
  {
   "cell_type": "code",
   "execution_count": 9,
   "id": "d49474c0",
   "metadata": {},
   "outputs": [
    {
     "name": "stdout",
     "output_type": "stream",
     "text": [
      "+---------+----------+--------+----------+------+------+\n",
      "|firstname|middlename|lastname|       dob|gender|salary|\n",
      "+---------+----------+--------+----------+------+------+\n",
      "|    James|          |   Smith|1991-04-01|     M|300000|\n",
      "|  Michael|      Rose|        |2000-05-19|     M|400000|\n",
      "|   Robert|          |Williams|1978-09-05|     M|400000|\n",
      "|    Maria|      Anne|   Jones|1967-12-01|     F|200000|\n",
      "+---------+----------+--------+----------+------+------+\n",
      "\n"
     ]
    }
   ],
   "source": [
    "# increase salary\n",
    "df3 = df2.withColumn(\"salary\",col(\"salary\")*100)\n",
    "df3.show()"
   ]
  },
  {
   "cell_type": "code",
   "execution_count": 10,
   "id": "c5e7abb8",
   "metadata": {},
   "outputs": [
    {
     "name": "stdout",
     "output_type": "stream",
     "text": [
      "+---------+----------+--------+----------+------+------+---------+\n",
      "|firstname|middlename|lastname|       dob|gender|salary|NetIncome|\n",
      "+---------+----------+--------+----------+------+------+---------+\n",
      "|    James|          |   Smith|1991-04-01|     M|300000| 240000.0|\n",
      "|  Michael|      Rose|        |2000-05-19|     M|400000| 320000.0|\n",
      "|   Robert|          |Williams|1978-09-05|     M|400000| 320000.0|\n",
      "|    Maria|      Anne|   Jones|1967-12-01|     F|200000| 160000.0|\n",
      "+---------+----------+--------+----------+------+------+---------+\n",
      "\n"
     ]
    }
   ],
   "source": [
    "#copy a column and update it as well\n",
    "df4 = df3.withColumn(\"NetIncome\",col(\"salary\")*0.80)\n",
    "df4.show()"
   ]
  },
  {
   "cell_type": "code",
   "execution_count": 11,
   "id": "f33a41b4",
   "metadata": {
    "scrolled": true
   },
   "outputs": [
    {
     "name": "stdout",
     "output_type": "stream",
     "text": [
      "+---------+----------+--------+----------+------+------+---------+-------+\n",
      "|firstname|middlename|lastname|       dob|gender|salary|NetIncome|Country|\n",
      "+---------+----------+--------+----------+------+------+---------+-------+\n",
      "|    James|          |   Smith|1991-04-01|     M|300000| 240000.0|    USA|\n",
      "|  Michael|      Rose|        |2000-05-19|     M|400000| 320000.0|    USA|\n",
      "|   Robert|          |Williams|1978-09-05|     M|400000| 320000.0|    USA|\n",
      "|    Maria|      Anne|   Jones|1967-12-01|     F|200000| 160000.0|    USA|\n",
      "+---------+----------+--------+----------+------+------+---------+-------+\n",
      "\n"
     ]
    }
   ],
   "source": [
    "# Create a column of literal value.\n",
    "from pyspark.sql.functions import lit\n",
    "\n",
    "df5 = df4.withColumn(\"Country\", lit(\"USA\"))\n",
    "df5.show()"
   ]
  },
  {
   "cell_type": "code",
   "execution_count": 12,
   "id": "3d802e25",
   "metadata": {},
   "outputs": [
    {
     "name": "stdout",
     "output_type": "stream",
     "text": [
      "+---------+----------+--------+----------+------+------+---------+-----------+\n",
      "|firstname|middlename|lastname|       dob|gender|salary|NetIncome|Home Contry|\n",
      "+---------+----------+--------+----------+------+------+---------+-----------+\n",
      "|    James|          |   Smith|1991-04-01|     M|300000| 240000.0|        USA|\n",
      "|  Michael|      Rose|        |2000-05-19|     M|400000| 320000.0|        USA|\n",
      "|   Robert|          |Williams|1978-09-05|     M|400000| 320000.0|        USA|\n",
      "|    Maria|      Anne|   Jones|1967-12-01|     F|200000| 160000.0|        USA|\n",
      "+---------+----------+--------+----------+------+------+---------+-----------+\n",
      "\n"
     ]
    }
   ],
   "source": [
    "#rename a column\n",
    "df5 = df5.withColumnRenamed(\"Country\",\"Home Contry\")\n",
    "df5.show()"
   ]
  },
  {
   "cell_type": "code",
   "execution_count": 13,
   "id": "37457f86",
   "metadata": {},
   "outputs": [
    {
     "name": "stdout",
     "output_type": "stream",
     "text": [
      "+---------+----------+--------+----------+------+------+---------+\n",
      "|firstname|middlename|lastname|       dob|gender|salary|NetIncome|\n",
      "+---------+----------+--------+----------+------+------+---------+\n",
      "|    James|          |   Smith|1991-04-01|     M|300000| 240000.0|\n",
      "|  Michael|      Rose|        |2000-05-19|     M|400000| 320000.0|\n",
      "|   Robert|          |Williams|1978-09-05|     M|400000| 320000.0|\n",
      "|    Maria|      Anne|   Jones|1967-12-01|     F|200000| 160000.0|\n",
      "+---------+----------+--------+----------+------+------+---------+\n",
      "\n"
     ]
    }
   ],
   "source": [
    "#drop a column\n",
    "df5.drop(\"Home Contry\").show()"
   ]
  },
  {
   "cell_type": "markdown",
   "id": "4744af7d",
   "metadata": {},
   "source": [
    "# Filtering"
   ]
  },
  {
   "cell_type": "code",
   "execution_count": 14,
   "id": "e907b6e6",
   "metadata": {},
   "outputs": [
    {
     "name": "stdout",
     "output_type": "stream",
     "text": [
      "root\n",
      " |-- name: struct (nullable = true)\n",
      " |    |-- firstname: string (nullable = true)\n",
      " |    |-- middlename: string (nullable = true)\n",
      " |    |-- lastname: string (nullable = true)\n",
      " |-- languages: array (nullable = true)\n",
      " |    |-- element: string (containsNull = true)\n",
      " |-- state: string (nullable = true)\n",
      " |-- gender: string (nullable = true)\n",
      "\n",
      "+----------------------+------------------+-----+------+\n",
      "|name                  |languages         |state|gender|\n",
      "+----------------------+------------------+-----+------+\n",
      "|{James, , Smith}      |[Java, Scala, C++]|OH   |M     |\n",
      "|{Anna, Rose, }        |[Spark, Java, C++]|NY   |F     |\n",
      "|{Julia, , Williams}   |[CSharp, Mathlab] |OH   |F     |\n",
      "|{Maria, Anne, Jones}  |[CSharp, Mathlab] |NY   |M     |\n",
      "|{Jen, Mary, Brown}    |[CSharp, Mathlab] |NY   |M     |\n",
      "|{Mike, Mary, Williams}|[Python, Mathlab] |OH   |M     |\n",
      "+----------------------+------------------+-----+------+\n",
      "\n"
     ]
    }
   ],
   "source": [
    "# let's create a new df\n",
    "from pyspark.sql.types import (\n",
    "    StructType,\n",
    "    StructField, \n",
    "    StringType, \n",
    "    IntegerType, \n",
    "    ArrayType,\n",
    ")\n",
    "\n",
    "arrayStructureData = [\n",
    "        ((\"James\",\"\",\"Smith\"),[\"Java\",\"Scala\",\"C++\"],\"OH\",\"M\"),\n",
    "        ((\"Anna\",\"Rose\",\"\"),[\"Spark\",\"Java\",\"C++\"],\"NY\",\"F\"),\n",
    "        ((\"Julia\",\"\",\"Williams\"),[\"CSharp\",\"Mathlab\"],\"OH\",\"F\"),\n",
    "        ((\"Maria\",\"Anne\",\"Jones\"),[\"CSharp\",\"Mathlab\"],\"NY\",\"M\"),\n",
    "        ((\"Jen\",\"Mary\",\"Brown\"),[\"CSharp\",\"Mathlab\"],\"NY\",\"M\"),\n",
    "        ((\"Mike\",\"Mary\",\"Williams\"),[\"Python\",\"Mathlab\"],\"OH\",\"M\")\n",
    "        ]\n",
    "\n",
    "# note that we can create nested structures here too\n",
    "arrayStructureSchema = StructType([\n",
    "        StructField('name', StructType([\n",
    "             StructField('firstname', StringType(), True),\n",
    "             StructField('middlename', StringType(), True),\n",
    "             StructField('lastname', StringType(), True)\n",
    "             ])),\n",
    "         StructField('languages', ArrayType(StringType()), True),\n",
    "         StructField('state', StringType(), True),\n",
    "         StructField('gender', StringType(), True)\n",
    "         ])\n",
    "\n",
    "\n",
    "df = spark.createDataFrame(data = arrayStructureData, schema = arrayStructureSchema)\n",
    "df.printSchema()\n",
    "df.show(truncate=False)"
   ]
  },
  {
   "cell_type": "code",
   "execution_count": 15,
   "id": "e77b9843",
   "metadata": {},
   "outputs": [
    {
     "name": "stdout",
     "output_type": "stream",
     "text": [
      "+--------------------+------------------+-----+------+\n",
      "|name                |languages         |state|gender|\n",
      "+--------------------+------------------+-----+------+\n",
      "|{Anna, Rose, }      |[Spark, Java, C++]|NY   |F     |\n",
      "|{Maria, Anne, Jones}|[CSharp, Mathlab] |NY   |M     |\n",
      "|{Jen, Mary, Brown}  |[CSharp, Mathlab] |NY   |M     |\n",
      "+--------------------+------------------+-----+------+\n",
      "\n"
     ]
    }
   ],
   "source": [
    "# let's find all rows with state NY\n",
    "df.filter(df.state == \"NY\").show(truncate=False)"
   ]
  },
  {
   "cell_type": "code",
   "execution_count": 16,
   "id": "93d5e564",
   "metadata": {},
   "outputs": [
    {
     "name": "stdout",
     "output_type": "stream",
     "text": [
      "+--------------------+------------------+-----+------+\n",
      "|name                |languages         |state|gender|\n",
      "+--------------------+------------------+-----+------+\n",
      "|{Anna, Rose, }      |[Spark, Java, C++]|NY   |F     |\n",
      "|{Maria, Anne, Jones}|[CSharp, Mathlab] |NY   |M     |\n",
      "|{Jen, Mary, Brown}  |[CSharp, Mathlab] |NY   |M     |\n",
      "+--------------------+------------------+-----+------+\n",
      "\n"
     ]
    }
   ],
   "source": [
    "# we can also use col\n",
    "from pyspark.sql.functions import col\n",
    "df.filter(col(\"state\") == \"NY\").show(truncate=False)"
   ]
  },
  {
   "cell_type": "code",
   "execution_count": 17,
   "id": "001eadf5",
   "metadata": {},
   "outputs": [
    {
     "name": "stdout",
     "output_type": "stream",
     "text": [
      "+--------------------+------------------+-----+------+\n",
      "|name                |languages         |state|gender|\n",
      "+--------------------+------------------+-----+------+\n",
      "|{Anna, Rose, }      |[Spark, Java, C++]|NY   |F     |\n",
      "|{Maria, Anne, Jones}|[CSharp, Mathlab] |NY   |M     |\n",
      "|{Jen, Mary, Brown}  |[CSharp, Mathlab] |NY   |M     |\n",
      "+--------------------+------------------+-----+------+\n",
      "\n"
     ]
    }
   ],
   "source": [
    "# We can also use sql-like syntax\n",
    "df.filter(\"state == 'NY'\").show(truncate=False)"
   ]
  },
  {
   "cell_type": "code",
   "execution_count": 18,
   "id": "d46d9504",
   "metadata": {},
   "outputs": [
    {
     "name": "stdout",
     "output_type": "stream",
     "text": [
      "+--------------------+-----------------+-----+------+\n",
      "|name                |languages        |state|gender|\n",
      "+--------------------+-----------------+-----+------+\n",
      "|{Maria, Anne, Jones}|[CSharp, Mathlab]|NY   |M     |\n",
      "|{Jen, Mary, Brown}  |[CSharp, Mathlab]|NY   |M     |\n",
      "+--------------------+-----------------+-----+------+\n",
      "\n"
     ]
    }
   ],
   "source": [
    "# Multiple conditions\n",
    "df.filter( \n",
    "    (df.state  == \"NY\") & (df.gender  == \"M\") \n",
    ").show(truncate=False)  "
   ]
  },
  {
   "cell_type": "code",
   "execution_count": 19,
   "id": "fc2c19fb",
   "metadata": {},
   "outputs": [
    {
     "name": "stdout",
     "output_type": "stream",
     "text": [
      "+----------------------+------------------+-----+------+\n",
      "|name                  |languages         |state|gender|\n",
      "+----------------------+------------------+-----+------+\n",
      "|{James, , Smith}      |[Java, Scala, C++]|OH   |M     |\n",
      "|{Anna, Rose, }        |[Spark, Java, C++]|NY   |F     |\n",
      "|{Julia, , Williams}   |[CSharp, Mathlab] |OH   |F     |\n",
      "|{Maria, Anne, Jones}  |[CSharp, Mathlab] |NY   |M     |\n",
      "|{Jen, Mary, Brown}    |[CSharp, Mathlab] |NY   |M     |\n",
      "|{Mike, Mary, Williams}|[Python, Mathlab] |OH   |M     |\n",
      "+----------------------+------------------+-----+------+\n",
      "\n"
     ]
    }
   ],
   "source": [
    "df.filter( \n",
    "    (df.state  == \"NY\") | (df.state  == \"OH\")  # OR condition\n",
    ").show(truncate=False) "
   ]
  },
  {
   "cell_type": "code",
   "execution_count": 20,
   "id": "965415ad",
   "metadata": {},
   "outputs": [
    {
     "name": "stdout",
     "output_type": "stream",
     "text": [
      "+--------------------+-----------------+-----+------+\n",
      "|name                |languages        |state|gender|\n",
      "+--------------------+-----------------+-----+------+\n",
      "|{Maria, Anne, Jones}|[CSharp, Mathlab]|NY   |M     |\n",
      "|{Jen, Mary, Brown}  |[CSharp, Mathlab]|NY   |M     |\n",
      "+--------------------+-----------------+-----+------+\n",
      "\n"
     ]
    }
   ],
   "source": [
    "# Sql like syntax\n",
    "df.filter(\"\"\"\n",
    "state == 'NY' AND gender == 'M'\n",
    "\"\"\").show(truncate=False)"
   ]
  },
  {
   "cell_type": "code",
   "execution_count": 21,
   "id": "3b4f032d",
   "metadata": {},
   "outputs": [
    {
     "name": "stdout",
     "output_type": "stream",
     "text": [
      "+----------------+------------------+-----+------+\n",
      "|name            |languages         |state|gender|\n",
      "+----------------+------------------+-----+------+\n",
      "|{James, , Smith}|[Java, Scala, C++]|OH   |M     |\n",
      "|{Anna, Rose, }  |[Spark, Java, C++]|NY   |F     |\n",
      "+----------------+------------------+-----+------+\n",
      "\n"
     ]
    }
   ],
   "source": [
    "# searching for jAVA\n",
    "from pyspark.sql.functions import array_contains\n",
    "df.filter(\n",
    "    array_contains(df.languages,\"Java\")\n",
    ").show(truncate=False)  "
   ]
  },
  {
   "cell_type": "code",
   "execution_count": 22,
   "id": "c331a7ae",
   "metadata": {},
   "outputs": [
    {
     "name": "stdout",
     "output_type": "stream",
     "text": [
      "+------------------+-----------------+-----+------+\n",
      "|name              |languages        |state|gender|\n",
      "+------------------+-----------------+-----+------+\n",
      "|{Jen, Mary, Brown}|[CSharp, Mathlab]|NY   |M     |\n",
      "+------------------+-----------------+-----+------+\n",
      "\n"
     ]
    }
   ],
   "source": [
    "# creating Nested columns\n",
    "df.filter(df.name.lastname == \"Brown\").show(truncate=False) "
   ]
  },
  {
   "cell_type": "markdown",
   "id": "5f081404",
   "metadata": {},
   "source": [
    "# Sorting"
   ]
  },
  {
   "cell_type": "code",
   "execution_count": 23,
   "id": "f97873bd",
   "metadata": {
    "scrolled": true
   },
   "outputs": [
    {
     "name": "stdout",
     "output_type": "stream",
     "text": [
      "+--------------------+------------------+-----+------+\n",
      "|                name|         languages|state|gender|\n",
      "+--------------------+------------------+-----+------+\n",
      "|{Maria, Anne, Jones}| [CSharp, Mathlab]|   NY|     M|\n",
      "|      {Anna, Rose, }|[Spark, Java, C++]|   NY|     F|\n",
      "|  {Jen, Mary, Brown}| [CSharp, Mathlab]|   NY|     M|\n",
      "|    {James, , Smith}|[Java, Scala, C++]|   OH|     M|\n",
      "| {Julia, , Williams}| [CSharp, Mathlab]|   OH|     F|\n",
      "|{Mike, Mary, Will...| [Python, Mathlab]|   OH|     M|\n",
      "+--------------------+------------------+-----+------+\n",
      "\n"
     ]
    }
   ],
   "source": [
    "# Basic sorting\n",
    "df.sort(\"state\").show()"
   ]
  },
  {
   "cell_type": "code",
   "execution_count": 24,
   "id": "c1a05146",
   "metadata": {
    "scrolled": true
   },
   "outputs": [
    {
     "name": "stdout",
     "output_type": "stream",
     "text": [
      "+--------------------+------------------+-----+------+\n",
      "|                name|         languages|state|gender|\n",
      "+--------------------+------------------+-----+------+\n",
      "|      {Anna, Rose, }|[Spark, Java, C++]|   NY|     F|\n",
      "|{Maria, Anne, Jones}| [CSharp, Mathlab]|   NY|     M|\n",
      "|  {Jen, Mary, Brown}| [CSharp, Mathlab]|   NY|     M|\n",
      "| {Julia, , Williams}| [CSharp, Mathlab]|   OH|     F|\n",
      "|    {James, , Smith}|[Java, Scala, C++]|   OH|     M|\n",
      "|{Mike, Mary, Will...| [Python, Mathlab]|   OH|     M|\n",
      "+--------------------+------------------+-----+------+\n",
      "\n"
     ]
    }
   ],
   "source": [
    "# Sort on multiple cols\n",
    "df.sort(\"state\", \"gender\").show()"
   ]
  },
  {
   "cell_type": "code",
   "execution_count": 25,
   "id": "ab628520",
   "metadata": {},
   "outputs": [
    {
     "name": "stdout",
     "output_type": "stream",
     "text": [
      "+--------------------+------------------+-----+------+\n",
      "|                name|         languages|state|gender|\n",
      "+--------------------+------------------+-----+------+\n",
      "|      {Anna, Rose, }|[Spark, Java, C++]|   NY|     F|\n",
      "| {Julia, , Williams}| [CSharp, Mathlab]|   OH|     F|\n",
      "|{Maria, Anne, Jones}| [CSharp, Mathlab]|   NY|     M|\n",
      "|  {Jen, Mary, Brown}| [CSharp, Mathlab]|   NY|     M|\n",
      "|    {James, , Smith}|[Java, Scala, C++]|   OH|     M|\n",
      "|{Mike, Mary, Will...| [Python, Mathlab]|   OH|     M|\n",
      "+--------------------+------------------+-----+------+\n",
      "\n"
     ]
    }
   ],
   "source": [
    "df.sort(\"gender\", \"state\").show()"
   ]
  },
  {
   "cell_type": "code",
   "execution_count": 26,
   "id": "7780bef5",
   "metadata": {},
   "outputs": [
    {
     "name": "stdout",
     "output_type": "stream",
     "text": [
      "+--------------------+------------------+-----+------+\n",
      "|                name|         languages|state|gender|\n",
      "+--------------------+------------------+-----+------+\n",
      "|  {Jen, Mary, Brown}| [CSharp, Mathlab]|   NY|     M|\n",
      "|{Maria, Anne, Jones}| [CSharp, Mathlab]|   NY|     M|\n",
      "|    {James, , Smith}|[Java, Scala, C++]|   OH|     M|\n",
      "|{Mike, Mary, Will...| [Python, Mathlab]|   OH|     M|\n",
      "|      {Anna, Rose, }|[Spark, Java, C++]|   NY|     F|\n",
      "| {Julia, , Williams}| [CSharp, Mathlab]|   OH|     F|\n",
      "+--------------------+------------------+-----+------+\n",
      "\n"
     ]
    }
   ],
   "source": [
    "# ASC/DESC?\n",
    "df.sort(df.gender.desc(), df.state.asc()).show()"
   ]
  },
  {
   "cell_type": "code",
   "execution_count": 27,
   "id": "6da24ab6",
   "metadata": {},
   "outputs": [
    {
     "name": "stdout",
     "output_type": "stream",
     "text": [
      "+----------------------+------------------+-----+------+\n",
      "|name                  |languages         |state|gender|\n",
      "+----------------------+------------------+-----+------+\n",
      "|{Jen, Mary, Brown}    |[CSharp, Mathlab] |NY   |M     |\n",
      "|{Maria, Anne, Jones}  |[CSharp, Mathlab] |NY   |M     |\n",
      "|{James, , Smith}      |[Java, Scala, C++]|OH   |M     |\n",
      "|{Mike, Mary, Williams}|[Python, Mathlab] |OH   |M     |\n",
      "|{Anna, Rose, }        |[Spark, Java, C++]|NY   |F     |\n",
      "|{Julia, , Williams}   |[CSharp, Mathlab] |OH   |F     |\n",
      "+----------------------+------------------+-----+------+\n",
      "\n"
     ]
    }
   ],
   "source": [
    "# using sql query , we can also use it for the SQL file\n",
    "df.createOrReplaceTempView(\"programmers\")\n",
    "spark.sql(\"\"\"\n",
    "SELECT *\n",
    "FROM programmers\n",
    "ORDER BY gender DESC, state ASC\n",
    "\"\"\").show(truncate=False)"
   ]
  },
  {
   "cell_type": "markdown",
   "id": "512005d8",
   "metadata": {},
   "source": [
    "# Grouping"
   ]
  },
  {
   "cell_type": "code",
   "execution_count": 28,
   "id": "3230cab6",
   "metadata": {},
   "outputs": [
    {
     "name": "stdout",
     "output_type": "stream",
     "text": [
      "root\n",
      " |-- employee_name: string (nullable = true)\n",
      " |-- department: string (nullable = true)\n",
      " |-- state: string (nullable = true)\n",
      " |-- salary: long (nullable = true)\n",
      " |-- age: long (nullable = true)\n",
      " |-- bonus: long (nullable = true)\n",
      "\n",
      "+-------------+----------+-----+------+---+-----+\n",
      "|employee_name|department|state|salary|age|bonus|\n",
      "+-------------+----------+-----+------+---+-----+\n",
      "|James        |Sales     |NY   |90000 |34 |10000|\n",
      "|Michael      |Sales     |NY   |86000 |56 |20000|\n",
      "|Robert       |Sales     |CA   |81000 |30 |23000|\n",
      "|Maria        |Finance   |CA   |90000 |24 |23000|\n",
      "|Raman        |Finance   |CA   |99000 |40 |24000|\n",
      "|Scott        |Finance   |NY   |83000 |36 |19000|\n",
      "|Jen          |Finance   |NY   |79000 |53 |15000|\n",
      "|Jeff         |Marketing |CA   |80000 |25 |18000|\n",
      "|Kumar        |Marketing |NY   |91000 |50 |21000|\n",
      "+-------------+----------+-----+------+---+-----+\n",
      "\n"
     ]
    }
   ],
   "source": [
    "# let's start with a new DF\n",
    "\n",
    "simpleData = [(\"James\",\"Sales\",\"NY\",90000,34,10000),\n",
    "    (\"Michael\",\"Sales\",\"NY\",86000,56,20000),\n",
    "    (\"Robert\",\"Sales\",\"CA\",81000,30,23000),\n",
    "    (\"Maria\",\"Finance\",\"CA\",90000,24,23000),\n",
    "    (\"Raman\",\"Finance\",\"CA\",99000,40,24000),\n",
    "    (\"Scott\",\"Finance\",\"NY\",83000,36,19000),\n",
    "    (\"Jen\",\"Finance\",\"NY\",79000,53,15000),\n",
    "    (\"Jeff\",\"Marketing\",\"CA\",80000,25,18000),\n",
    "    (\"Kumar\",\"Marketing\",\"NY\",91000,50,21000)\n",
    "  ]\n",
    "\n",
    "schema = [\"employee_name\",\"department\",\"state\",\"salary\",\"age\",\"bonus\"]\n",
    "df = spark.createDataFrame(data=simpleData, schema = schema)\n",
    "df.printSchema()\n",
    "df.show(truncate=False)"
   ]
  },
  {
   "cell_type": "code",
   "execution_count": 29,
   "id": "37af8506",
   "metadata": {},
   "outputs": [
    {
     "name": "stdout",
     "output_type": "stream",
     "text": [
      "+----------+-----------+\n",
      "|department|sum(salary)|\n",
      "+----------+-----------+\n",
      "|Sales     |257000     |\n",
      "|Finance   |351000     |\n",
      "|Marketing |171000     |\n",
      "+----------+-----------+\n",
      "\n"
     ]
    }
   ],
   "source": [
    "# How much money is spent on salary per department?\n",
    "df.groupBy(\"department\").sum(\"salary\").show(truncate=False)"
   ]
  },
  {
   "cell_type": "code",
   "execution_count": 30,
   "id": "d2094f21",
   "metadata": {},
   "outputs": [
    {
     "name": "stdout",
     "output_type": "stream",
     "text": [
      "+----------+-----------------+\n",
      "|department|avg(salary)      |\n",
      "+----------+-----------------+\n",
      "|Sales     |85666.66666666667|\n",
      "|Finance   |87750.0          |\n",
      "|Marketing |85500.0          |\n",
      "+----------+-----------------+\n",
      "\n"
     ]
    }
   ],
   "source": [
    "# What is the average salary/dept?\n",
    "df.groupBy(\"department\").avg(\"salary\").show(truncate=False)"
   ]
  },
  {
   "cell_type": "code",
   "execution_count": 31,
   "id": "9fe71b44",
   "metadata": {},
   "outputs": [
    {
     "name": "stdout",
     "output_type": "stream",
     "text": [
      "+----------+-----------------+----------+------------+\n",
      "|department|       avg_salary|num_salary|total_salary|\n",
      "+----------+-----------------+----------+------------+\n",
      "| Marketing|          85500.0|         2|      171000|\n",
      "|     Sales|85666.66666666667|         3|      257000|\n",
      "|   Finance|          87750.0|         4|      351000|\n",
      "+----------+-----------------+----------+------------+\n",
      "\n"
     ]
    }
   ],
   "source": [
    "# It would be nice to sort this \n",
    "from pyspark.sql.functions import mean, count, sum, col\n",
    "from pyspark.sql.functions import mean, count, sum, col\n",
    "\n",
    "df.groupBy(\"department\").agg(\n",
    "        # average salary\n",
    "        mean('salary').alias(\"avg_salary\"),\n",
    "        # number of salaries\n",
    "        count('salary').alias(\"num_salary\"),\n",
    "        # total salary\n",
    "        sum(\"salary\").alias(\"total_salary\")).sort(col(\"avg_salary\").asc()).show()"
   ]
  },
  {
   "cell_type": "code",
   "execution_count": 32,
   "id": "1ccfbd71",
   "metadata": {},
   "outputs": [
    {
     "name": "stdout",
     "output_type": "stream",
     "text": [
      "+----------+-----+-----------+----------+\n",
      "|department|state|sum(salary)|sum(bonus)|\n",
      "+----------+-----+-----------+----------+\n",
      "|   Finance|   NY|     162000|     34000|\n",
      "| Marketing|   NY|      91000|     21000|\n",
      "|     Sales|   CA|      81000|     23000|\n",
      "| Marketing|   CA|      80000|     18000|\n",
      "|   Finance|   CA|     189000|     47000|\n",
      "|     Sales|   NY|     176000|     30000|\n",
      "+----------+-----+-----------+----------+\n",
      "\n"
     ]
    }
   ],
   "source": [
    "# groupby multiple cols\n",
    "df.groupBy(\"department\",\"state\") \\\n",
    "    .sum(\"salary\",\"bonus\") \\\n",
    "    .show()"
   ]
  },
  {
   "cell_type": "code",
   "execution_count": 33,
   "id": "05817659",
   "metadata": {},
   "outputs": [
    {
     "name": "stdout",
     "output_type": "stream",
     "text": [
      "+----------+----------+-----------------+---------+---------+\n",
      "|department|sum_salary|avg_salary       |sum_bonus|max_bonus|\n",
      "+----------+----------+-----------------+---------+---------+\n",
      "|Sales     |257000    |85666.66666666667|53000    |23000    |\n",
      "|Finance   |351000    |87750.0          |81000    |24000    |\n",
      "+----------+----------+-----------------+---------+---------+\n",
      "\n"
     ]
    }
   ],
   "source": [
    "# groupby and then filter\n",
    "from pyspark.sql.functions import max\n",
    "\n",
    "df.groupBy(\"department\") \\\n",
    "    .agg(sum(\"salary\").alias(\"sum_salary\"), \\\n",
    "      mean(\"salary\").alias(\"avg_salary\"), \\\n",
    "      sum(\"bonus\").alias(\"sum_bonus\"), \\\n",
    "      max(\"bonus\").alias(\"max_bonus\")) \\\n",
    "    .filter(col(\"sum_bonus\") >= 50000) \\\n",
    "    .show(truncate=False)"
   ]
  },
  {
   "cell_type": "markdown",
   "id": "a46b5073",
   "metadata": {},
   "source": [
    "# UDFs: User Defined Functions"
   ]
  },
  {
   "cell_type": "code",
   "execution_count": 34,
   "id": "5ada8b9b",
   "metadata": {},
   "outputs": [
    {
     "name": "stdout",
     "output_type": "stream",
     "text": [
      "+---+------------+\n",
      "|ID |Name        |\n",
      "+---+------------+\n",
      "|1  |john jones  |\n",
      "|2  |tracey smith|\n",
      "|3  |amy sanders |\n",
      "+---+------------+\n",
      "\n"
     ]
    }
   ],
   "source": [
    "# Create some basic data\n",
    "\n",
    "columns = [\"ID\",\"Name\"]\n",
    "data = [(\"1\", \"john jones\"),\n",
    "    (\"2\", \"tracey smith\"),\n",
    "    (\"3\", \"amy sanders\")]\n",
    "\n",
    "df = spark.createDataFrame(data=data,schema=columns)\n",
    "\n",
    "df.show(truncate=False)"
   ]
  },
  {
   "cell_type": "code",
   "execution_count": 35,
   "id": "d8f66126",
   "metadata": {
    "scrolled": true
   },
   "outputs": [
    {
     "name": "stdout",
     "output_type": "stream",
     "text": [
      "\n",
      "James Lee\n",
      "James Lee\n",
      "James Lee\n",
      "James Lee\n"
     ]
    }
   ],
   "source": [
    "# let's fix the casing on these names\n",
    "\n",
    "def fixNameCase(st):\n",
    "    if st is None:\n",
    "        return \"\"\n",
    "    return \" \".join([word[0].upper()+word[1:].lower() for word in st.split(\" \")])\n",
    "\n",
    "# always test first\n",
    "print(fixNameCase(None)) # expect \"\"\n",
    "print(fixNameCase(\"james lee\"))\n",
    "print(fixNameCase(\"james Lee\")) \n",
    "print(fixNameCase(\"James Lee\")) \n",
    "print(fixNameCase(\"James lee\"))"
   ]
  },
  {
   "cell_type": "code",
   "execution_count": 36,
   "id": "4e23e8bf",
   "metadata": {},
   "outputs": [],
   "source": [
    "# define spark udf which help us write custom functions for processing data\n",
    "from pyspark.sql.functions import udf\n",
    "from pyspark.sql.types import StringType\n",
    "\n",
    "fixNameCaseUDF = udf(lambda z: fixNameCase(z),StringType()) "
   ]
  },
  {
   "cell_type": "code",
   "execution_count": 37,
   "id": "eb10be96",
   "metadata": {},
   "outputs": [
    {
     "name": "stdout",
     "output_type": "stream",
     "text": [
      "+---+------------+\n",
      "|ID |NameFixed   |\n",
      "+---+------------+\n",
      "|1  |John Jones  |\n",
      "|2  |Tracey Smith|\n",
      "|3  |Amy Sanders |\n",
      "+---+------------+\n",
      "\n"
     ]
    }
   ],
   "source": [
    "# let's apply to our df\n",
    "df.select(col(\"ID\"), \\\n",
    "    fixNameCaseUDF(col(\"Name\")).alias(\"NameFixed\") ) \\\n",
    "   .show(truncate=False)"
   ]
  },
  {
   "cell_type": "code",
   "execution_count": 52,
   "id": "81adb8b1",
   "metadata": {},
   "outputs": [
    {
     "data": {
      "application/vnd.jupyter.widget-view+json": {
       "model_id": "bade8e3577784e95abe6846375f75f18",
       "version_major": 2,
       "version_minor": 0
      },
      "text/plain": [
       "VBox()"
      ]
     },
     "metadata": {},
     "output_type": "display_data"
    },
    {
     "data": {
      "application/vnd.jupyter.widget-view+json": {
       "model_id": "",
       "version_major": 2,
       "version_minor": 0
      },
      "text/plain": [
       "FloatProgress(value=0.0, bar_style='info', description='Progress:', layout=Layout(height='25px', width='50%'),…"
      ]
     },
     "metadata": {},
     "output_type": "display_data"
    },
    {
     "name": "stdout",
     "output_type": "stream",
     "text": [
      "\n",
      "ecem-basak\n",
      "ecem-basak\n",
      "ecem-basak\n",
      "ecem-basak"
     ]
    }
   ],
   "source": [
    "# let's create a name \"slug\" and append to this df\n",
    "def slugify(name):\n",
    "    if name is None:\n",
    "        return \"\"\n",
    "    return \"-\".join(name.lower().split(\" \"))\n",
    "\n",
    "# always test first\n",
    "print(slugify(None)) # expect \"\"\n",
    "print(slugify(\"Ecem Basak\")) # expect \"Ecem Basak\"\n",
    "print(slugify(\"Ecem Basak\")) # expect \"Ecem Basak\"\n",
    "print(slugify(\"Ecem Basak\")) # expect \"Ecem Basak\"\n",
    "print(slugify(\"Ecem Basak\")) # expect \"Ecem Basak\""
   ]
  },
  {
   "cell_type": "code",
   "execution_count": 53,
   "id": "b8043c6c",
   "metadata": {},
   "outputs": [
    {
     "data": {
      "application/vnd.jupyter.widget-view+json": {
       "model_id": "f6d579cef7734002aaec1730d88bb853",
       "version_major": 2,
       "version_minor": 0
      },
      "text/plain": [
       "VBox()"
      ]
     },
     "metadata": {},
     "output_type": "display_data"
    },
    {
     "data": {
      "application/vnd.jupyter.widget-view+json": {
       "model_id": "",
       "version_major": 2,
       "version_minor": 0
      },
      "text/plain": [
       "FloatProgress(value=0.0, bar_style='info', description='Progress:', layout=Layout(height='25px', width='50%'),…"
      ]
     },
     "metadata": {},
     "output_type": "display_data"
    },
    {
     "name": "stdout",
     "output_type": "stream",
     "text": [
      "+---+------------+------------+\n",
      "| ID|   NameFixed|    NameSlug|\n",
      "+---+------------+------------+\n",
      "|  1|  John Jones|  john-jones|\n",
      "|  2|Tracey Smith|tracey-smith|\n",
      "|  3| Amy Sanders| amy-sanders|\n",
      "+---+------------+------------+"
     ]
    }
   ],
   "source": [
    "# Apply to our data\n",
    "slugifyUDF = udf(lambda z:slugify(z), StringType())   \n",
    "\n",
    "fixedDf = df.select(col(\"ID\"),fixNameCaseUDF(col(\"Name\")).alias(\"NameFixed\"))\n",
    "\n",
    "fixedDf.withColumn(\"NameSlug\", slugifyUDF(col(\"NameFixed\"))).show()"
   ]
  },
  {
   "cell_type": "code",
   "execution_count": 54,
   "id": "fb204d5e",
   "metadata": {},
   "outputs": [
    {
     "data": {
      "application/vnd.jupyter.widget-view+json": {
       "model_id": "a226faf67234420494d4703dbdb11430",
       "version_major": 2,
       "version_minor": 0
      },
      "text/plain": [
       "VBox()"
      ]
     },
     "metadata": {},
     "output_type": "display_data"
    },
    {
     "data": {
      "application/vnd.jupyter.widget-view+json": {
       "model_id": "",
       "version_major": 2,
       "version_minor": 0
      },
      "text/plain": [
       "FloatProgress(value=0.0, bar_style='info', description='Progress:', layout=Layout(height='25px', width='50%'),…"
      ]
     },
     "metadata": {},
     "output_type": "display_data"
    },
    {
     "name": "stdout",
     "output_type": "stream",
     "text": [
      "+---+------------+\n",
      "|ID |NameFixed   |\n",
      "+---+------------+\n",
      "|1  |John Jones  |\n",
      "|2  |Tracey Smith|\n",
      "|3  |Amy Sanders |\n",
      "+---+------------+"
     ]
    }
   ],
   "source": [
    "# Use in sql\n",
    "\n",
    "spark.udf.register(\"fixNameCaseUDF\", fixNameCase, StringType())\n",
    "df.createOrReplaceTempView(\"names\")\n",
    "spark.sql(\"\"\"\n",
    "SELECT \n",
    "    ID, \n",
    "    fixNameCaseUDF(Name) as NameFixed \n",
    "FROM names\n",
    "\"\"\").show(truncate=False)"
   ]
  }
 ],
 "metadata": {
  "kernelspec": {
   "display_name": "Python 3",
   "language": "python",
   "name": "python3"
  },
  "language_info": {
   "codemirror_mode": {
    "name": "ipython",
    "version": 3
   },
   "file_extension": ".py",
   "mimetype": "text/x-python",
   "name": "python",
   "nbconvert_exporter": "python",
   "pygments_lexer": "ipython3",
   "version": "3.8.8"
  }
 },
 "nbformat": 4,
 "nbformat_minor": 5
}
